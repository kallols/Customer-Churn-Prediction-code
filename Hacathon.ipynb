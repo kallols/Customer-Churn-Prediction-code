{
 "cells": [
  {
   "cell_type": "code",
   "execution_count": 1,
   "metadata": {
    "collapsed": true
   },
   "outputs": [],
   "source": [
    "import pandas as pd\n",
    "import numpy as np"
   ]
  },
  {
   "cell_type": "code",
   "execution_count": 2,
   "metadata": {
    "collapsed": true
   },
   "outputs": [],
   "source": [
    "#read the files\n",
    "train=pd.read_csv(\"C:/Users/kallol/Desktop/Kaggle/Hackathon/train.csv\")\n",
    "test=pd.read_csv(\"C:/Users/kallol/Desktop/Kaggle/Hackathon/test.csv\")"
   ]
  },
  {
   "cell_type": "code",
   "execution_count": 3,
   "metadata": {},
   "outputs": [
    {
     "data": {
      "text/plain": [
       "0    1\n",
       "1    0\n",
       "2    1\n",
       "3    1\n",
       "4    0\n",
       "Name: Left, dtype: int64"
      ]
     },
     "execution_count": 3,
     "metadata": {},
     "output_type": "execute_result"
    }
   ],
   "source": [
    "train.Left.head()"
   ]
  },
  {
   "cell_type": "code",
   "execution_count": 4,
   "metadata": {
    "collapsed": true
   },
   "outputs": [],
   "source": [
    "#dropping customer id from train data as this is not usefull for prediction\n",
    "train=train.drop('Customer_Id',axis=1)"
   ]
  },
  {
   "cell_type": "code",
   "execution_count": 5,
   "metadata": {},
   "outputs": [
    {
     "data": {
      "text/html": [
       "<div>\n",
       "<style>\n",
       "    .dataframe thead tr:only-child th {\n",
       "        text-align: right;\n",
       "    }\n",
       "\n",
       "    .dataframe thead th {\n",
       "        text-align: left;\n",
       "    }\n",
       "\n",
       "    .dataframe tbody tr th {\n",
       "        vertical-align: top;\n",
       "    }\n",
       "</style>\n",
       "<table border=\"1\" class=\"dataframe\">\n",
       "  <thead>\n",
       "    <tr style=\"text-align: right;\">\n",
       "      <th></th>\n",
       "      <th>Customer_Id</th>\n",
       "      <th>�..gross_income</th>\n",
       "      <th>avg_monthly_minute_usage</th>\n",
       "      <th>repeating.charge</th>\n",
       "      <th>avg_assisted_calls</th>\n",
       "      <th>avg_overage_min_use</th>\n",
       "      <th>avg_roaming_calls</th>\n",
       "      <th>per_change_min_use</th>\n",
       "      <th>per_change_gross_profit</th>\n",
       "      <th>avg_drop_voice_call</th>\n",
       "      <th>...</th>\n",
       "      <th>is_married</th>\n",
       "      <th>is_online_purchaser</th>\n",
       "      <th>mail_active</th>\n",
       "      <th>frequent_traveller</th>\n",
       "      <th>access_to_pc</th>\n",
       "      <th>credit_card</th>\n",
       "      <th>is_referral_made</th>\n",
       "      <th>income</th>\n",
       "      <th>access_twowheeler</th>\n",
       "      <th>credit_rating_up_down</th>\n",
       "    </tr>\n",
       "  </thead>\n",
       "  <tbody>\n",
       "    <tr>\n",
       "      <th>0</th>\n",
       "      <td>19073</td>\n",
       "      <td>116.08</td>\n",
       "      <td>1000.50</td>\n",
       "      <td>34.98</td>\n",
       "      <td>1.98</td>\n",
       "      <td>245.25</td>\n",
       "      <td>5.2</td>\n",
       "      <td>-149.50</td>\n",
       "      <td>-40.88</td>\n",
       "      <td>19.67</td>\n",
       "      <td>...</td>\n",
       "      <td>0</td>\n",
       "      <td>0</td>\n",
       "      <td>0</td>\n",
       "      <td>0</td>\n",
       "      <td>0</td>\n",
       "      <td>1</td>\n",
       "      <td>0</td>\n",
       "      <td>3</td>\n",
       "      <td>0</td>\n",
       "      <td>0</td>\n",
       "    </tr>\n",
       "    <tr>\n",
       "      <th>1</th>\n",
       "      <td>61023</td>\n",
       "      <td>65.99</td>\n",
       "      <td>904.75</td>\n",
       "      <td>54.99</td>\n",
       "      <td>0.25</td>\n",
       "      <td>55.00</td>\n",
       "      <td>0.0</td>\n",
       "      <td>189.25</td>\n",
       "      <td>-21.00</td>\n",
       "      <td>6.00</td>\n",
       "      <td>...</td>\n",
       "      <td>1</td>\n",
       "      <td>0</td>\n",
       "      <td>0</td>\n",
       "      <td>0</td>\n",
       "      <td>0</td>\n",
       "      <td>1</td>\n",
       "      <td>1</td>\n",
       "      <td>6</td>\n",
       "      <td>0</td>\n",
       "      <td>0</td>\n",
       "    </tr>\n",
       "    <tr>\n",
       "      <th>2</th>\n",
       "      <td>42451</td>\n",
       "      <td>76.65</td>\n",
       "      <td>361.75</td>\n",
       "      <td>38.12</td>\n",
       "      <td>0.00</td>\n",
       "      <td>0.00</td>\n",
       "      <td>0.0</td>\n",
       "      <td>-361.75</td>\n",
       "      <td>73.35</td>\n",
       "      <td>17.67</td>\n",
       "      <td>...</td>\n",
       "      <td>0</td>\n",
       "      <td>0</td>\n",
       "      <td>0</td>\n",
       "      <td>0</td>\n",
       "      <td>0</td>\n",
       "      <td>1</td>\n",
       "      <td>0</td>\n",
       "      <td>1</td>\n",
       "      <td>0</td>\n",
       "      <td>0</td>\n",
       "    </tr>\n",
       "    <tr>\n",
       "      <th>3</th>\n",
       "      <td>61656</td>\n",
       "      <td>73.81</td>\n",
       "      <td>498.50</td>\n",
       "      <td>33.16</td>\n",
       "      <td>0.00</td>\n",
       "      <td>12.75</td>\n",
       "      <td>0.0</td>\n",
       "      <td>-430.50</td>\n",
       "      <td>76.19</td>\n",
       "      <td>21.33</td>\n",
       "      <td>...</td>\n",
       "      <td>0</td>\n",
       "      <td>0</td>\n",
       "      <td>0</td>\n",
       "      <td>0</td>\n",
       "      <td>0</td>\n",
       "      <td>0</td>\n",
       "      <td>0</td>\n",
       "      <td>0</td>\n",
       "      <td>0</td>\n",
       "      <td>0</td>\n",
       "    </tr>\n",
       "    <tr>\n",
       "      <th>4</th>\n",
       "      <td>67593</td>\n",
       "      <td>25.65</td>\n",
       "      <td>129.00</td>\n",
       "      <td>9.74</td>\n",
       "      <td>0.00</td>\n",
       "      <td>24.00</td>\n",
       "      <td>0.0</td>\n",
       "      <td>-90.00</td>\n",
       "      <td>-15.65</td>\n",
       "      <td>0.67</td>\n",
       "      <td>...</td>\n",
       "      <td>1</td>\n",
       "      <td>1</td>\n",
       "      <td>1</td>\n",
       "      <td>0</td>\n",
       "      <td>1</td>\n",
       "      <td>1</td>\n",
       "      <td>0</td>\n",
       "      <td>1</td>\n",
       "      <td>0</td>\n",
       "      <td>0</td>\n",
       "    </tr>\n",
       "  </tbody>\n",
       "</table>\n",
       "<p>5 rows × 56 columns</p>\n",
       "</div>"
      ],
      "text/plain": [
       "   Customer_Id  �..gross_income  avg_monthly_minute_usage  repeating.charge  \\\n",
       "0        19073           116.08                   1000.50             34.98   \n",
       "1        61023            65.99                    904.75             54.99   \n",
       "2        42451            76.65                    361.75             38.12   \n",
       "3        61656            73.81                    498.50             33.16   \n",
       "4        67593            25.65                    129.00              9.74   \n",
       "\n",
       "   avg_assisted_calls  avg_overage_min_use  avg_roaming_calls  \\\n",
       "0                1.98               245.25                5.2   \n",
       "1                0.25                55.00                0.0   \n",
       "2                0.00                 0.00                0.0   \n",
       "3                0.00                12.75                0.0   \n",
       "4                0.00                24.00                0.0   \n",
       "\n",
       "   per_change_min_use  per_change_gross_profit  avg_drop_voice_call  \\\n",
       "0             -149.50                   -40.88                19.67   \n",
       "1              189.25                   -21.00                 6.00   \n",
       "2             -361.75                    73.35                17.67   \n",
       "3             -430.50                    76.19                21.33   \n",
       "4              -90.00                   -15.65                 0.67   \n",
       "\n",
       "           ...            is_married  is_online_purchaser  mail_active  \\\n",
       "0          ...                     0                    0            0   \n",
       "1          ...                     1                    0            0   \n",
       "2          ...                     0                    0            0   \n",
       "3          ...                     0                    0            0   \n",
       "4          ...                     1                    1            1   \n",
       "\n",
       "   frequent_traveller  access_to_pc  credit_card  is_referral_made  income  \\\n",
       "0                   0             0            1                 0       3   \n",
       "1                   0             0            1                 1       6   \n",
       "2                   0             0            1                 0       1   \n",
       "3                   0             0            0                 0       0   \n",
       "4                   0             1            1                 0       1   \n",
       "\n",
       "   access_twowheeler  credit_rating_up_down  \n",
       "0                  0                      0  \n",
       "1                  0                      0  \n",
       "2                  0                      0  \n",
       "3                  0                      0  \n",
       "4                  0                      0  \n",
       "\n",
       "[5 rows x 56 columns]"
      ]
     },
     "execution_count": 5,
     "metadata": {},
     "output_type": "execute_result"
    }
   ],
   "source": [
    "test.head()"
   ]
  },
  {
   "cell_type": "code",
   "execution_count": 6,
   "metadata": {
    "collapsed": true
   },
   "outputs": [],
   "source": [
    "#dropping customer id from test data \n",
    "test=test.drop('Customer_Id',axis=1)"
   ]
  },
  {
   "cell_type": "code",
   "execution_count": 7,
   "metadata": {},
   "outputs": [
    {
     "data": {
      "text/html": [
       "<div>\n",
       "<style>\n",
       "    .dataframe thead tr:only-child th {\n",
       "        text-align: right;\n",
       "    }\n",
       "\n",
       "    .dataframe thead th {\n",
       "        text-align: left;\n",
       "    }\n",
       "\n",
       "    .dataframe tbody tr th {\n",
       "        vertical-align: top;\n",
       "    }\n",
       "</style>\n",
       "<table border=\"1\" class=\"dataframe\">\n",
       "  <thead>\n",
       "    <tr style=\"text-align: right;\">\n",
       "      <th></th>\n",
       "      <th>Total</th>\n",
       "      <th>Percent</th>\n",
       "    </tr>\n",
       "  </thead>\n",
       "  <tbody>\n",
       "    <tr>\n",
       "      <th>age</th>\n",
       "      <td>927</td>\n",
       "      <td>0.01854</td>\n",
       "    </tr>\n",
       "    <tr>\n",
       "      <th>per_change_gross_profit</th>\n",
       "      <td>362</td>\n",
       "      <td>0.00724</td>\n",
       "    </tr>\n",
       "    <tr>\n",
       "      <th>per_change_min_use</th>\n",
       "      <td>362</td>\n",
       "      <td>0.00724</td>\n",
       "    </tr>\n",
       "    <tr>\n",
       "      <th>avg_monthly_minute_usage</th>\n",
       "      <td>160</td>\n",
       "      <td>0.00320</td>\n",
       "    </tr>\n",
       "    <tr>\n",
       "      <th>repeating.charge</th>\n",
       "      <td>160</td>\n",
       "      <td>0.00320</td>\n",
       "    </tr>\n",
       "    <tr>\n",
       "      <th>avg_assisted_calls</th>\n",
       "      <td>160</td>\n",
       "      <td>0.00320</td>\n",
       "    </tr>\n",
       "    <tr>\n",
       "      <th>avg_overage_min_use</th>\n",
       "      <td>160</td>\n",
       "      <td>0.00320</td>\n",
       "    </tr>\n",
       "    <tr>\n",
       "      <th>avg_roaming_calls</th>\n",
       "      <td>160</td>\n",
       "      <td>0.00320</td>\n",
       "    </tr>\n",
       "    <tr>\n",
       "      <th>�..gross_income</th>\n",
       "      <td>160</td>\n",
       "      <td>0.00320</td>\n",
       "    </tr>\n",
       "  </tbody>\n",
       "</table>\n",
       "</div>"
      ],
      "text/plain": [
       "                          Total  Percent\n",
       "age                         927  0.01854\n",
       "per_change_gross_profit     362  0.00724\n",
       "per_change_min_use          362  0.00724\n",
       "avg_monthly_minute_usage    160  0.00320\n",
       "repeating.charge            160  0.00320\n",
       "avg_assisted_calls          160  0.00320\n",
       "avg_overage_min_use         160  0.00320\n",
       "avg_roaming_calls           160  0.00320\n",
       "�..gross_income             160  0.00320"
      ]
     },
     "execution_count": 7,
     "metadata": {},
     "output_type": "execute_result"
    }
   ],
   "source": [
    "#finding number of missing value column wise from the train data\n",
    "total=train.isnull().sum().sort_values(ascending=False)\n",
    "percent = (train.isnull().sum()/train.isnull().count()).sort_values(ascending=False)\n",
    "missing_data = pd.concat([total, percent], axis=1, keys=['Total', 'Percent'])\n",
    "missing_data[missing_data.Total>0]"
   ]
  },
  {
   "cell_type": "code",
   "execution_count": 8,
   "metadata": {},
   "outputs": [
    {
     "data": {
      "text/html": [
       "<div>\n",
       "<style>\n",
       "    .dataframe thead tr:only-child th {\n",
       "        text-align: right;\n",
       "    }\n",
       "\n",
       "    .dataframe thead th {\n",
       "        text-align: left;\n",
       "    }\n",
       "\n",
       "    .dataframe tbody tr th {\n",
       "        vertical-align: top;\n",
       "    }\n",
       "</style>\n",
       "<table border=\"1\" class=\"dataframe\">\n",
       "  <thead>\n",
       "    <tr style=\"text-align: right;\">\n",
       "      <th></th>\n",
       "      <th>Total</th>\n",
       "      <th>Percent</th>\n",
       "    </tr>\n",
       "  </thead>\n",
       "  <tbody>\n",
       "    <tr>\n",
       "      <th>age</th>\n",
       "      <td>317</td>\n",
       "      <td>0.015062</td>\n",
       "    </tr>\n",
       "    <tr>\n",
       "      <th>per_change_gross_profit</th>\n",
       "      <td>140</td>\n",
       "      <td>0.006652</td>\n",
       "    </tr>\n",
       "    <tr>\n",
       "      <th>per_change_min_use</th>\n",
       "      <td>140</td>\n",
       "      <td>0.006652</td>\n",
       "    </tr>\n",
       "    <tr>\n",
       "      <th>avg_monthly_minute_usage</th>\n",
       "      <td>56</td>\n",
       "      <td>0.002661</td>\n",
       "    </tr>\n",
       "    <tr>\n",
       "      <th>repeating.charge</th>\n",
       "      <td>56</td>\n",
       "      <td>0.002661</td>\n",
       "    </tr>\n",
       "    <tr>\n",
       "      <th>avg_assisted_calls</th>\n",
       "      <td>56</td>\n",
       "      <td>0.002661</td>\n",
       "    </tr>\n",
       "    <tr>\n",
       "      <th>avg_overage_min_use</th>\n",
       "      <td>56</td>\n",
       "      <td>0.002661</td>\n",
       "    </tr>\n",
       "    <tr>\n",
       "      <th>avg_roaming_calls</th>\n",
       "      <td>56</td>\n",
       "      <td>0.002661</td>\n",
       "    </tr>\n",
       "    <tr>\n",
       "      <th>�..gross_income</th>\n",
       "      <td>56</td>\n",
       "      <td>0.002661</td>\n",
       "    </tr>\n",
       "    <tr>\n",
       "      <th>handset</th>\n",
       "      <td>1</td>\n",
       "      <td>0.000048</td>\n",
       "    </tr>\n",
       "    <tr>\n",
       "      <th>model</th>\n",
       "      <td>1</td>\n",
       "      <td>0.000048</td>\n",
       "    </tr>\n",
       "    <tr>\n",
       "      <th>equip_days</th>\n",
       "      <td>1</td>\n",
       "      <td>0.000048</td>\n",
       "    </tr>\n",
       "  </tbody>\n",
       "</table>\n",
       "</div>"
      ],
      "text/plain": [
       "                          Total   Percent\n",
       "age                         317  0.015062\n",
       "per_change_gross_profit     140  0.006652\n",
       "per_change_min_use          140  0.006652\n",
       "avg_monthly_minute_usage     56  0.002661\n",
       "repeating.charge             56  0.002661\n",
       "avg_assisted_calls           56  0.002661\n",
       "avg_overage_min_use          56  0.002661\n",
       "avg_roaming_calls            56  0.002661\n",
       "�..gross_income              56  0.002661\n",
       "handset                       1  0.000048\n",
       "model                         1  0.000048\n",
       "equip_days                    1  0.000048"
      ]
     },
     "execution_count": 8,
     "metadata": {},
     "output_type": "execute_result"
    }
   ],
   "source": [
    "##finding number of missing value column wise from the test data\n",
    "total=test.isnull().sum().sort_values(ascending=False)\n",
    "percent = (test.isnull().sum()/test.isnull().count()).sort_values(ascending=False)\n",
    "missing_data = pd.concat([total, percent], axis=1, keys=['Total', 'Percent'])\n",
    "missing_data[missing_data.Total>0]"
   ]
  },
  {
   "cell_type": "code",
   "execution_count": 9,
   "metadata": {},
   "outputs": [
    {
     "data": {
      "text/plain": [
       "�..gross_income             float64\n",
       "avg_monthly_minute_usage    float64\n",
       "repeating.charge            float64\n",
       "avg_assisted_calls          float64\n",
       "avg_overage_min_use         float64\n",
       "avg_roaming_calls           float64\n",
       "per_change_min_use          float64\n",
       "per_change_gross_profit     float64\n",
       "avg_drop_voice_call         float64\n",
       "ag_block_voice_call         float64\n",
       "avg_unans_voice_call        float64\n",
       "avg_custmore_care_call      float64\n",
       "avg_threeway_call           float64\n",
       "mou_rec                     float64\n",
       "avg_outbound_voice_call     float64\n",
       "avg_incalls                 float64\n",
       "avg_peakvoice               float64\n",
       "avg_off_peakvoice           float64\n",
       "avg_drop_block              float64\n",
       "avg_call_forwarding         float64\n",
       "avg_callwait                float64\n",
       "months                        int64\n",
       "unique_sub                    int64\n",
       "active_sub                    int64\n",
       "handset                       int64\n",
       "model                         int64\n",
       "equip_days                    int64\n",
       "age                         float64\n",
       "children                      int64\n",
       "CR.A                          int64\n",
       "CR.AA                         int64\n",
       "CR.B                          int64\n",
       "CR.C                          int64\n",
       "CR.DE                         int64\n",
       "is_rural                      int64\n",
       "is_subUrban                   int64\n",
       "is_town                       int64\n",
       "HS_refurb                     int64\n",
       "HS.web_enable                 int64\n",
       "emp_level.C                   int64\n",
       "is_student                    int64\n",
       "is_housemaker                 int64\n",
       "is_retired                    int64\n",
       "is_selfEmployed               int64\n",
       "is_house_rented               int64\n",
       "is_married                    int64\n",
       "is_online_purchaser           int64\n",
       "mail_active                   int64\n",
       "frequent_traveller            int64\n",
       "access_to_pc                  int64\n",
       "credit_card                   int64\n",
       "is_referral_made              int64\n",
       "income                        int64\n",
       "access_twowheeler             int64\n",
       "credit_rating_up_down         int64\n",
       "Left                          int64\n",
       "dtype: object"
      ]
     },
     "execution_count": 9,
     "metadata": {},
     "output_type": "execute_result"
    }
   ],
   "source": [
    "#displaying the datatypes of each column\n",
    "train.dtypes"
   ]
  },
  {
   "cell_type": "code",
   "execution_count": 10,
   "metadata": {
    "collapsed": true,
    "scrolled": false
   },
   "outputs": [],
   "source": [
    "#the column name is written on ascii character, changing it to english word\n",
    "train.rename(columns={'\\xef..gross_income':'gross_income'}, inplace=True)"
   ]
  },
  {
   "cell_type": "code",
   "execution_count": 11,
   "metadata": {
    "collapsed": true
   },
   "outputs": [],
   "source": [
    "test.rename(columns={'\\xef..gross_income':'gross_income'}, inplace=True)"
   ]
  },
  {
   "cell_type": "code",
   "execution_count": 12,
   "metadata": {
    "collapsed": true
   },
   "outputs": [],
   "source": [
    "#changing the dot to underscore in column name it may create some problem beause dot is used to call object\n",
    "train.rename(columns={'repeating.charge':'repeating_charge'}, inplace=True)"
   ]
  },
  {
   "cell_type": "code",
   "execution_count": 13,
   "metadata": {
    "collapsed": true
   },
   "outputs": [],
   "source": [
    "test.rename(columns={'repeating.charge':'repeating_charge'}, inplace=True)"
   ]
  },
  {
   "cell_type": "code",
   "execution_count": 14,
   "metadata": {},
   "outputs": [
    {
     "name": "stderr",
     "output_type": "stream",
     "text": [
      "C:\\Users\\kallol\\Anaconda2\\lib\\site-packages\\ipykernel_launcher.py:3: UserWarning: Boolean Series key will be reindexed to match DataFrame index.\n",
      "  This is separate from the ipykernel package so we can avoid doing imports until\n",
      "C:\\Users\\kallol\\Anaconda2\\lib\\site-packages\\ipykernel_launcher.py:4: UserWarning: Boolean Series key will be reindexed to match DataFrame index.\n",
      "  after removing the cwd from sys.path.\n",
      "C:\\Users\\kallol\\Anaconda2\\lib\\site-packages\\ipykernel_launcher.py:5: UserWarning: Boolean Series key will be reindexed to match DataFrame index.\n",
      "  \"\"\"\n",
      "C:\\Users\\kallol\\Anaconda2\\lib\\site-packages\\ipykernel_launcher.py:6: UserWarning: Boolean Series key will be reindexed to match DataFrame index.\n",
      "  \n",
      "C:\\Users\\kallol\\Anaconda2\\lib\\site-packages\\ipykernel_launcher.py:7: UserWarning: Boolean Series key will be reindexed to match DataFrame index.\n",
      "  import sys\n",
      "C:\\Users\\kallol\\Anaconda2\\lib\\site-packages\\ipykernel_launcher.py:8: UserWarning: Boolean Series key will be reindexed to match DataFrame index.\n",
      "  \n",
      "C:\\Users\\kallol\\Anaconda2\\lib\\site-packages\\ipykernel_launcher.py:9: UserWarning: Boolean Series key will be reindexed to match DataFrame index.\n",
      "  if __name__ == '__main__':\n",
      "C:\\Users\\kallol\\Anaconda2\\lib\\site-packages\\ipykernel_launcher.py:10: UserWarning: Boolean Series key will be reindexed to match DataFrame index.\n",
      "  # Remove the CWD from sys.path while we load stuff.\n"
     ]
    }
   ],
   "source": [
    "#creating a seperate dataset from train data without null values\n",
    "notnull= train[train.age.notnull()]\n",
    "notnull= notnull[train.per_change_gross_profit.notnull()]\n",
    "notnull= notnull[train.per_change_min_use.notnull()]\n",
    "notnull= notnull[train.avg_monthly_minute_usage.notnull()] \n",
    "notnull= notnull[train.repeating_charge.notnull() ]\n",
    "notnull= notnull[train.avg_assisted_calls.notnull() ]\n",
    "notnull= notnull[train.avg_overage_min_use.notnull()] \n",
    "notnull= notnull[train.avg_roaming_calls.notnull() ]\n",
    "notnull= notnull[train.gross_income.notnull()]"
   ]
  },
  {
   "cell_type": "code",
   "execution_count": 15,
   "metadata": {
    "collapsed": true
   },
   "outputs": [],
   "source": [
    "from collections import Counter"
   ]
  },
  {
   "cell_type": "code",
   "execution_count": 16,
   "metadata": {},
   "outputs": [
    {
     "data": {
      "text/html": [
       "<div>\n",
       "<style>\n",
       "    .dataframe thead tr:only-child th {\n",
       "        text-align: right;\n",
       "    }\n",
       "\n",
       "    .dataframe thead th {\n",
       "        text-align: left;\n",
       "    }\n",
       "\n",
       "    .dataframe tbody tr th {\n",
       "        vertical-align: top;\n",
       "    }\n",
       "</style>\n",
       "<table border=\"1\" class=\"dataframe\">\n",
       "  <thead>\n",
       "    <tr style=\"text-align: right;\">\n",
       "      <th></th>\n",
       "      <th>gross_income</th>\n",
       "      <th>avg_monthly_minute_usage</th>\n",
       "      <th>repeating_charge</th>\n",
       "      <th>avg_assisted_calls</th>\n",
       "      <th>avg_overage_min_use</th>\n",
       "      <th>avg_roaming_calls</th>\n",
       "      <th>per_change_min_use</th>\n",
       "      <th>per_change_gross_profit</th>\n",
       "      <th>avg_drop_voice_call</th>\n",
       "      <th>ag_block_voice_call</th>\n",
       "      <th>...</th>\n",
       "      <th>is_online_purchaser</th>\n",
       "      <th>mail_active</th>\n",
       "      <th>frequent_traveller</th>\n",
       "      <th>access_to_pc</th>\n",
       "      <th>credit_card</th>\n",
       "      <th>is_referral_made</th>\n",
       "      <th>income</th>\n",
       "      <th>access_twowheeler</th>\n",
       "      <th>credit_rating_up_down</th>\n",
       "      <th>Left</th>\n",
       "    </tr>\n",
       "  </thead>\n",
       "  <tbody>\n",
       "    <tr>\n",
       "      <th>0</th>\n",
       "      <td>44.08</td>\n",
       "      <td>430.00</td>\n",
       "      <td>50.07</td>\n",
       "      <td>0.00</td>\n",
       "      <td>10.25</td>\n",
       "      <td>0.0</td>\n",
       "      <td>-47.00</td>\n",
       "      <td>-4.09</td>\n",
       "      <td>0.00</td>\n",
       "      <td>0.00</td>\n",
       "      <td>...</td>\n",
       "      <td>0</td>\n",
       "      <td>0</td>\n",
       "      <td>0</td>\n",
       "      <td>0</td>\n",
       "      <td>1</td>\n",
       "      <td>0</td>\n",
       "      <td>6</td>\n",
       "      <td>0</td>\n",
       "      <td>0</td>\n",
       "      <td>1</td>\n",
       "    </tr>\n",
       "    <tr>\n",
       "      <th>1</th>\n",
       "      <td>30.50</td>\n",
       "      <td>86.00</td>\n",
       "      <td>30.00</td>\n",
       "      <td>0.50</td>\n",
       "      <td>0.00</td>\n",
       "      <td>0.0</td>\n",
       "      <td>-46.00</td>\n",
       "      <td>-0.49</td>\n",
       "      <td>1.33</td>\n",
       "      <td>0.00</td>\n",
       "      <td>...</td>\n",
       "      <td>0</td>\n",
       "      <td>0</td>\n",
       "      <td>0</td>\n",
       "      <td>0</td>\n",
       "      <td>0</td>\n",
       "      <td>0</td>\n",
       "      <td>0</td>\n",
       "      <td>0</td>\n",
       "      <td>0</td>\n",
       "      <td>0</td>\n",
       "    </tr>\n",
       "    <tr>\n",
       "      <th>2</th>\n",
       "      <td>30.65</td>\n",
       "      <td>65.50</td>\n",
       "      <td>29.99</td>\n",
       "      <td>0.00</td>\n",
       "      <td>0.75</td>\n",
       "      <td>0.0</td>\n",
       "      <td>4.50</td>\n",
       "      <td>-0.66</td>\n",
       "      <td>0.00</td>\n",
       "      <td>2.00</td>\n",
       "      <td>...</td>\n",
       "      <td>1</td>\n",
       "      <td>1</td>\n",
       "      <td>0</td>\n",
       "      <td>1</td>\n",
       "      <td>1</td>\n",
       "      <td>0</td>\n",
       "      <td>5</td>\n",
       "      <td>0</td>\n",
       "      <td>0</td>\n",
       "      <td>1</td>\n",
       "    </tr>\n",
       "    <tr>\n",
       "      <th>3</th>\n",
       "      <td>34.99</td>\n",
       "      <td>425.25</td>\n",
       "      <td>44.99</td>\n",
       "      <td>0.00</td>\n",
       "      <td>0.00</td>\n",
       "      <td>0.0</td>\n",
       "      <td>34.75</td>\n",
       "      <td>0.00</td>\n",
       "      <td>5.00</td>\n",
       "      <td>1.33</td>\n",
       "      <td>...</td>\n",
       "      <td>0</td>\n",
       "      <td>0</td>\n",
       "      <td>0</td>\n",
       "      <td>0</td>\n",
       "      <td>1</td>\n",
       "      <td>0</td>\n",
       "      <td>3</td>\n",
       "      <td>0</td>\n",
       "      <td>0</td>\n",
       "      <td>1</td>\n",
       "    </tr>\n",
       "    <tr>\n",
       "      <th>4</th>\n",
       "      <td>170.75</td>\n",
       "      <td>1657.25</td>\n",
       "      <td>61.69</td>\n",
       "      <td>1.73</td>\n",
       "      <td>458.75</td>\n",
       "      <td>0.0</td>\n",
       "      <td>-1654.25</td>\n",
       "      <td>-178.98</td>\n",
       "      <td>14.67</td>\n",
       "      <td>1.00</td>\n",
       "      <td>...</td>\n",
       "      <td>0</td>\n",
       "      <td>0</td>\n",
       "      <td>0</td>\n",
       "      <td>0</td>\n",
       "      <td>0</td>\n",
       "      <td>0</td>\n",
       "      <td>0</td>\n",
       "      <td>0</td>\n",
       "      <td>0</td>\n",
       "      <td>0</td>\n",
       "    </tr>\n",
       "  </tbody>\n",
       "</table>\n",
       "<p>5 rows × 56 columns</p>\n",
       "</div>"
      ],
      "text/plain": [
       "   gross_income  avg_monthly_minute_usage  repeating_charge  \\\n",
       "0         44.08                    430.00             50.07   \n",
       "1         30.50                     86.00             30.00   \n",
       "2         30.65                     65.50             29.99   \n",
       "3         34.99                    425.25             44.99   \n",
       "4        170.75                   1657.25             61.69   \n",
       "\n",
       "   avg_assisted_calls  avg_overage_min_use  avg_roaming_calls  \\\n",
       "0                0.00                10.25                0.0   \n",
       "1                0.50                 0.00                0.0   \n",
       "2                0.00                 0.75                0.0   \n",
       "3                0.00                 0.00                0.0   \n",
       "4                1.73               458.75                0.0   \n",
       "\n",
       "   per_change_min_use  per_change_gross_profit  avg_drop_voice_call  \\\n",
       "0              -47.00                    -4.09                 0.00   \n",
       "1              -46.00                    -0.49                 1.33   \n",
       "2                4.50                    -0.66                 0.00   \n",
       "3               34.75                     0.00                 5.00   \n",
       "4            -1654.25                  -178.98                14.67   \n",
       "\n",
       "   ag_block_voice_call  ...   is_online_purchaser  mail_active  \\\n",
       "0                 0.00  ...                     0            0   \n",
       "1                 0.00  ...                     0            0   \n",
       "2                 2.00  ...                     1            1   \n",
       "3                 1.33  ...                     0            0   \n",
       "4                 1.00  ...                     0            0   \n",
       "\n",
       "   frequent_traveller  access_to_pc  credit_card  is_referral_made  income  \\\n",
       "0                   0             0            1                 0       6   \n",
       "1                   0             0            0                 0       0   \n",
       "2                   0             1            1                 0       5   \n",
       "3                   0             0            1                 0       3   \n",
       "4                   0             0            0                 0       0   \n",
       "\n",
       "   access_twowheeler  credit_rating_up_down  Left  \n",
       "0                  0                      0     1  \n",
       "1                  0                      0     0  \n",
       "2                  0                      0     1  \n",
       "3                  0                      0     1  \n",
       "4                  0                      0     0  \n",
       "\n",
       "[5 rows x 56 columns]"
      ]
     },
     "execution_count": 16,
     "metadata": {},
     "output_type": "execute_result"
    }
   ],
   "source": [
    "#displaying first five row of newly formed dataset\n",
    "#as we know we have very less number of null data compared to the train dataset we can ignore them for further model building\n",
    "notnull.head()"
   ]
  },
  {
   "cell_type": "code",
   "execution_count": 17,
   "metadata": {
    "collapsed": true
   },
   "outputs": [],
   "source": [
    "#we need to seperate numerical data and categorical data for feature engineering, we are seperating them\n",
    "#all categorical variables having category less than 23\n",
    "cat=[]\n",
    "num=[]\n",
    "for i in range(0,55):\n",
    "    if(len(Counter(notnull.iloc[:,i]))<23):\n",
    "        cat.append(i)\n",
    "    else:\n",
    "        num.append(i)"
   ]
  },
  {
   "cell_type": "code",
   "execution_count": 18,
   "metadata": {
    "collapsed": true
   },
   "outputs": [],
   "source": [
    "#storing categorical and numerical feature names \n",
    "categorial_features = notnull.iloc[:,cat].columns.values\n",
    "numeric_features = notnull.iloc[:,num].columns.values\n",
    "\n",
    "#creating different detasets for numerical and categorical data\n",
    "categorial = notnull.iloc[:,cat]\n",
    "numerical = notnull.iloc[:,num]"
   ]
  },
  {
   "cell_type": "code",
   "execution_count": 19,
   "metadata": {},
   "outputs": [
    {
     "name": "stdout",
     "output_type": "stream",
     "text": [
      "['unique_sub' 'active_sub' 'handset' 'model' 'children' 'CR.A' 'CR.AA'\n",
      " 'CR.B' 'CR.C' 'CR.DE' 'is_rural' 'is_subUrban' 'is_town' 'HS_refurb'\n",
      " 'HS.web_enable' 'emp_level.C' 'is_student' 'is_housemaker' 'is_retired'\n",
      " 'is_selfEmployed' 'is_house_rented' 'is_married' 'is_online_purchaser'\n",
      " 'mail_active' 'frequent_traveller' 'access_to_pc' 'credit_card'\n",
      " 'is_referral_made' 'income' 'access_twowheeler' 'credit_rating_up_down']\n",
      "['gross_income' 'avg_monthly_minute_usage' 'repeating_charge'\n",
      " 'avg_assisted_calls' 'avg_overage_min_use' 'avg_roaming_calls'\n",
      " 'per_change_min_use' 'per_change_gross_profit' 'avg_drop_voice_call'\n",
      " 'ag_block_voice_call' 'avg_unans_voice_call' 'avg_custmore_care_call'\n",
      " 'avg_threeway_call' 'mou_rec' 'avg_outbound_voice_call' 'avg_incalls'\n",
      " 'avg_peakvoice' 'avg_off_peakvoice' 'avg_drop_block' 'avg_call_forwarding'\n",
      " 'avg_callwait' 'months' 'equip_days' 'age']\n"
     ]
    }
   ],
   "source": [
    "#printing categorical and numeric column names\n",
    "print categorial_features\n",
    "print numeric_features"
   ]
  },
  {
   "cell_type": "code",
   "execution_count": 20,
   "metadata": {},
   "outputs": [
    {
     "data": {
      "text/html": [
       "<div>\n",
       "<style>\n",
       "    .dataframe thead tr:only-child th {\n",
       "        text-align: right;\n",
       "    }\n",
       "\n",
       "    .dataframe thead th {\n",
       "        text-align: left;\n",
       "    }\n",
       "\n",
       "    .dataframe tbody tr th {\n",
       "        vertical-align: top;\n",
       "    }\n",
       "</style>\n",
       "<table border=\"1\" class=\"dataframe\">\n",
       "  <thead>\n",
       "    <tr style=\"text-align: right;\">\n",
       "      <th></th>\n",
       "      <th>gross_income</th>\n",
       "      <th>avg_monthly_minute_usage</th>\n",
       "      <th>repeating_charge</th>\n",
       "      <th>avg_assisted_calls</th>\n",
       "      <th>avg_overage_min_use</th>\n",
       "      <th>avg_roaming_calls</th>\n",
       "      <th>per_change_min_use</th>\n",
       "      <th>per_change_gross_profit</th>\n",
       "      <th>avg_drop_voice_call</th>\n",
       "      <th>ag_block_voice_call</th>\n",
       "      <th>...</th>\n",
       "      <th>avg_outbound_voice_call</th>\n",
       "      <th>avg_incalls</th>\n",
       "      <th>avg_peakvoice</th>\n",
       "      <th>avg_off_peakvoice</th>\n",
       "      <th>avg_drop_block</th>\n",
       "      <th>avg_call_forwarding</th>\n",
       "      <th>avg_callwait</th>\n",
       "      <th>months</th>\n",
       "      <th>equip_days</th>\n",
       "      <th>age</th>\n",
       "    </tr>\n",
       "  </thead>\n",
       "  <tbody>\n",
       "    <tr>\n",
       "      <th>0</th>\n",
       "      <td>44.08</td>\n",
       "      <td>430.00</td>\n",
       "      <td>50.07</td>\n",
       "      <td>0.00</td>\n",
       "      <td>10.25</td>\n",
       "      <td>0.0</td>\n",
       "      <td>-47.00</td>\n",
       "      <td>-4.09</td>\n",
       "      <td>0.00</td>\n",
       "      <td>0.00</td>\n",
       "      <td>...</td>\n",
       "      <td>0.00</td>\n",
       "      <td>0.00</td>\n",
       "      <td>0.00</td>\n",
       "      <td>0.00</td>\n",
       "      <td>0.00</td>\n",
       "      <td>0.0</td>\n",
       "      <td>0.00</td>\n",
       "      <td>8</td>\n",
       "      <td>243</td>\n",
       "      <td>62.0</td>\n",
       "    </tr>\n",
       "    <tr>\n",
       "      <th>1</th>\n",
       "      <td>30.50</td>\n",
       "      <td>86.00</td>\n",
       "      <td>30.00</td>\n",
       "      <td>0.50</td>\n",
       "      <td>0.00</td>\n",
       "      <td>0.0</td>\n",
       "      <td>-46.00</td>\n",
       "      <td>-0.49</td>\n",
       "      <td>1.33</td>\n",
       "      <td>0.00</td>\n",
       "      <td>...</td>\n",
       "      <td>11.33</td>\n",
       "      <td>0.67</td>\n",
       "      <td>34.67</td>\n",
       "      <td>20.33</td>\n",
       "      <td>1.33</td>\n",
       "      <td>0.0</td>\n",
       "      <td>0.00</td>\n",
       "      <td>25</td>\n",
       "      <td>736</td>\n",
       "      <td>0.0</td>\n",
       "    </tr>\n",
       "    <tr>\n",
       "      <th>2</th>\n",
       "      <td>30.65</td>\n",
       "      <td>65.50</td>\n",
       "      <td>29.99</td>\n",
       "      <td>0.00</td>\n",
       "      <td>0.75</td>\n",
       "      <td>0.0</td>\n",
       "      <td>4.50</td>\n",
       "      <td>-0.66</td>\n",
       "      <td>0.00</td>\n",
       "      <td>2.00</td>\n",
       "      <td>...</td>\n",
       "      <td>5.33</td>\n",
       "      <td>0.33</td>\n",
       "      <td>17.67</td>\n",
       "      <td>10.67</td>\n",
       "      <td>2.00</td>\n",
       "      <td>0.0</td>\n",
       "      <td>0.00</td>\n",
       "      <td>21</td>\n",
       "      <td>634</td>\n",
       "      <td>32.0</td>\n",
       "    </tr>\n",
       "    <tr>\n",
       "      <th>3</th>\n",
       "      <td>34.99</td>\n",
       "      <td>425.25</td>\n",
       "      <td>44.99</td>\n",
       "      <td>0.00</td>\n",
       "      <td>0.00</td>\n",
       "      <td>0.0</td>\n",
       "      <td>34.75</td>\n",
       "      <td>0.00</td>\n",
       "      <td>5.00</td>\n",
       "      <td>1.33</td>\n",
       "      <td>...</td>\n",
       "      <td>16.67</td>\n",
       "      <td>5.33</td>\n",
       "      <td>51.33</td>\n",
       "      <td>93.67</td>\n",
       "      <td>6.33</td>\n",
       "      <td>0.0</td>\n",
       "      <td>0.67</td>\n",
       "      <td>11</td>\n",
       "      <td>305</td>\n",
       "      <td>32.0</td>\n",
       "    </tr>\n",
       "    <tr>\n",
       "      <th>4</th>\n",
       "      <td>170.75</td>\n",
       "      <td>1657.25</td>\n",
       "      <td>61.69</td>\n",
       "      <td>1.73</td>\n",
       "      <td>458.75</td>\n",
       "      <td>0.0</td>\n",
       "      <td>-1654.25</td>\n",
       "      <td>-178.98</td>\n",
       "      <td>14.67</td>\n",
       "      <td>1.00</td>\n",
       "      <td>...</td>\n",
       "      <td>118.33</td>\n",
       "      <td>50.33</td>\n",
       "      <td>665.67</td>\n",
       "      <td>400.33</td>\n",
       "      <td>15.67</td>\n",
       "      <td>0.0</td>\n",
       "      <td>35.67</td>\n",
       "      <td>23</td>\n",
       "      <td>132</td>\n",
       "      <td>0.0</td>\n",
       "    </tr>\n",
       "  </tbody>\n",
       "</table>\n",
       "<p>5 rows × 24 columns</p>\n",
       "</div>"
      ],
      "text/plain": [
       "   gross_income  avg_monthly_minute_usage  repeating_charge  \\\n",
       "0         44.08                    430.00             50.07   \n",
       "1         30.50                     86.00             30.00   \n",
       "2         30.65                     65.50             29.99   \n",
       "3         34.99                    425.25             44.99   \n",
       "4        170.75                   1657.25             61.69   \n",
       "\n",
       "   avg_assisted_calls  avg_overage_min_use  avg_roaming_calls  \\\n",
       "0                0.00                10.25                0.0   \n",
       "1                0.50                 0.00                0.0   \n",
       "2                0.00                 0.75                0.0   \n",
       "3                0.00                 0.00                0.0   \n",
       "4                1.73               458.75                0.0   \n",
       "\n",
       "   per_change_min_use  per_change_gross_profit  avg_drop_voice_call  \\\n",
       "0              -47.00                    -4.09                 0.00   \n",
       "1              -46.00                    -0.49                 1.33   \n",
       "2                4.50                    -0.66                 0.00   \n",
       "3               34.75                     0.00                 5.00   \n",
       "4            -1654.25                  -178.98                14.67   \n",
       "\n",
       "   ag_block_voice_call  ...   avg_outbound_voice_call  avg_incalls  \\\n",
       "0                 0.00  ...                      0.00         0.00   \n",
       "1                 0.00  ...                     11.33         0.67   \n",
       "2                 2.00  ...                      5.33         0.33   \n",
       "3                 1.33  ...                     16.67         5.33   \n",
       "4                 1.00  ...                    118.33        50.33   \n",
       "\n",
       "   avg_peakvoice  avg_off_peakvoice  avg_drop_block  avg_call_forwarding  \\\n",
       "0           0.00               0.00            0.00                  0.0   \n",
       "1          34.67              20.33            1.33                  0.0   \n",
       "2          17.67              10.67            2.00                  0.0   \n",
       "3          51.33              93.67            6.33                  0.0   \n",
       "4         665.67             400.33           15.67                  0.0   \n",
       "\n",
       "   avg_callwait  months  equip_days   age  \n",
       "0          0.00       8         243  62.0  \n",
       "1          0.00      25         736   0.0  \n",
       "2          0.00      21         634  32.0  \n",
       "3          0.67      11         305  32.0  \n",
       "4         35.67      23         132   0.0  \n",
       "\n",
       "[5 rows x 24 columns]"
      ]
     },
     "execution_count": 20,
     "metadata": {},
     "output_type": "execute_result"
    }
   ],
   "source": [
    "#checking numerical dataset\n",
    "numerical.head()"
   ]
  },
  {
   "cell_type": "code",
   "execution_count": 21,
   "metadata": {
    "collapsed": true
   },
   "outputs": [],
   "source": [
    "#importing libraries for ploting \n",
    "import matplotlib.pyplot as plt\n",
    "%matplotlib inline\n",
    "import seaborn as sns"
   ]
  },
  {
   "cell_type": "code",
   "execution_count": 22,
   "metadata": {},
   "outputs": [
    {
     "data": {
      "image/png": "[encoded data removed]",
      "text/plain": [
       "<matplotlib.figure.Figure at 0xd17c9b0>"
      ]
     },
     "metadata": {},
     "output_type": "display_data"
    }
   ],
   "source": [
    "#displaying correlation matrix for all numeric features to get an idea about what item to keep and what item to drop\n",
    "corrmat = numerical.corr()\n",
    "f, ax = plt.subplots(figsize=(12, 9))\n",
    "sns.heatmap(corrmat, vmax=.8, square=True);"
   ]
  },
  {
   "cell_type": "code",
   "execution_count": 23,
   "metadata": {
    "collapsed": true
   },
   "outputs": [],
   "source": [
    "#creating a function that will detect and delete colums which are corrrelated with each other\n",
    "def correlation(dataset, threshold):\n",
    "    col_corr = set() # Set of all the names of deleted columns\n",
    "    corr_matrix = dataset.corr()\n",
    "    for i in range(len(corr_matrix.columns)):\n",
    "        for j in range(i):\n",
    "            if corr_matrix.iloc[i, j] >= threshold:\n",
    "                colname = corr_matrix.columns[i] # getting the name of column\n",
    "                col_corr.add(colname)\n",
    "                if colname in dataset.columns:\n",
    "                    del dataset[colname] # deleting the column from the dataset\n",
    "                    print colname\n",
    "\n",
    "    #print(dataset)"
   ]
  },
  {
   "cell_type": "code",
   "execution_count": 24,
   "metadata": {},
   "outputs": [
    {
     "data": {
      "text/html": [
       "<div>\n",
       "<style>\n",
       "    .dataframe thead tr:only-child th {\n",
       "        text-align: right;\n",
       "    }\n",
       "\n",
       "    .dataframe thead th {\n",
       "        text-align: left;\n",
       "    }\n",
       "\n",
       "    .dataframe tbody tr th {\n",
       "        vertical-align: top;\n",
       "    }\n",
       "</style>\n",
       "<table border=\"1\" class=\"dataframe\">\n",
       "  <thead>\n",
       "    <tr style=\"text-align: right;\">\n",
       "      <th></th>\n",
       "      <th>gross_income</th>\n",
       "      <th>avg_monthly_minute_usage</th>\n",
       "      <th>repeating_charge</th>\n",
       "      <th>avg_assisted_calls</th>\n",
       "      <th>avg_overage_min_use</th>\n",
       "      <th>avg_roaming_calls</th>\n",
       "      <th>per_change_min_use</th>\n",
       "      <th>per_change_gross_profit</th>\n",
       "      <th>avg_drop_voice_call</th>\n",
       "      <th>ag_block_voice_call</th>\n",
       "      <th>...</th>\n",
       "      <th>avg_outbound_voice_call</th>\n",
       "      <th>avg_incalls</th>\n",
       "      <th>avg_peakvoice</th>\n",
       "      <th>avg_off_peakvoice</th>\n",
       "      <th>avg_drop_block</th>\n",
       "      <th>avg_call_forwarding</th>\n",
       "      <th>avg_callwait</th>\n",
       "      <th>months</th>\n",
       "      <th>equip_days</th>\n",
       "      <th>age</th>\n",
       "    </tr>\n",
       "  </thead>\n",
       "  <tbody>\n",
       "    <tr>\n",
       "      <th>0</th>\n",
       "      <td>44.08</td>\n",
       "      <td>430.00</td>\n",
       "      <td>50.07</td>\n",
       "      <td>0.00</td>\n",
       "      <td>10.25</td>\n",
       "      <td>0.0</td>\n",
       "      <td>-47.00</td>\n",
       "      <td>-4.09</td>\n",
       "      <td>0.00</td>\n",
       "      <td>0.00</td>\n",
       "      <td>...</td>\n",
       "      <td>0.00</td>\n",
       "      <td>0.00</td>\n",
       "      <td>0.00</td>\n",
       "      <td>0.00</td>\n",
       "      <td>0.00</td>\n",
       "      <td>0.0</td>\n",
       "      <td>0.00</td>\n",
       "      <td>8</td>\n",
       "      <td>243</td>\n",
       "      <td>62.0</td>\n",
       "    </tr>\n",
       "    <tr>\n",
       "      <th>1</th>\n",
       "      <td>30.50</td>\n",
       "      <td>86.00</td>\n",
       "      <td>30.00</td>\n",
       "      <td>0.50</td>\n",
       "      <td>0.00</td>\n",
       "      <td>0.0</td>\n",
       "      <td>-46.00</td>\n",
       "      <td>-0.49</td>\n",
       "      <td>1.33</td>\n",
       "      <td>0.00</td>\n",
       "      <td>...</td>\n",
       "      <td>11.33</td>\n",
       "      <td>0.67</td>\n",
       "      <td>34.67</td>\n",
       "      <td>20.33</td>\n",
       "      <td>1.33</td>\n",
       "      <td>0.0</td>\n",
       "      <td>0.00</td>\n",
       "      <td>25</td>\n",
       "      <td>736</td>\n",
       "      <td>0.0</td>\n",
       "    </tr>\n",
       "    <tr>\n",
       "      <th>2</th>\n",
       "      <td>30.65</td>\n",
       "      <td>65.50</td>\n",
       "      <td>29.99</td>\n",
       "      <td>0.00</td>\n",
       "      <td>0.75</td>\n",
       "      <td>0.0</td>\n",
       "      <td>4.50</td>\n",
       "      <td>-0.66</td>\n",
       "      <td>0.00</td>\n",
       "      <td>2.00</td>\n",
       "      <td>...</td>\n",
       "      <td>5.33</td>\n",
       "      <td>0.33</td>\n",
       "      <td>17.67</td>\n",
       "      <td>10.67</td>\n",
       "      <td>2.00</td>\n",
       "      <td>0.0</td>\n",
       "      <td>0.00</td>\n",
       "      <td>21</td>\n",
       "      <td>634</td>\n",
       "      <td>32.0</td>\n",
       "    </tr>\n",
       "    <tr>\n",
       "      <th>3</th>\n",
       "      <td>34.99</td>\n",
       "      <td>425.25</td>\n",
       "      <td>44.99</td>\n",
       "      <td>0.00</td>\n",
       "      <td>0.00</td>\n",
       "      <td>0.0</td>\n",
       "      <td>34.75</td>\n",
       "      <td>0.00</td>\n",
       "      <td>5.00</td>\n",
       "      <td>1.33</td>\n",
       "      <td>...</td>\n",
       "      <td>16.67</td>\n",
       "      <td>5.33</td>\n",
       "      <td>51.33</td>\n",
       "      <td>93.67</td>\n",
       "      <td>6.33</td>\n",
       "      <td>0.0</td>\n",
       "      <td>0.67</td>\n",
       "      <td>11</td>\n",
       "      <td>305</td>\n",
       "      <td>32.0</td>\n",
       "    </tr>\n",
       "    <tr>\n",
       "      <th>4</th>\n",
       "      <td>170.75</td>\n",
       "      <td>1657.25</td>\n",
       "      <td>61.69</td>\n",
       "      <td>1.73</td>\n",
       "      <td>458.75</td>\n",
       "      <td>0.0</td>\n",
       "      <td>-1654.25</td>\n",
       "      <td>-178.98</td>\n",
       "      <td>14.67</td>\n",
       "      <td>1.00</td>\n",
       "      <td>...</td>\n",
       "      <td>118.33</td>\n",
       "      <td>50.33</td>\n",
       "      <td>665.67</td>\n",
       "      <td>400.33</td>\n",
       "      <td>15.67</td>\n",
       "      <td>0.0</td>\n",
       "      <td>35.67</td>\n",
       "      <td>23</td>\n",
       "      <td>132</td>\n",
       "      <td>0.0</td>\n",
       "    </tr>\n",
       "  </tbody>\n",
       "</table>\n",
       "<p>5 rows × 24 columns</p>\n",
       "</div>"
      ],
      "text/plain": [
       "   gross_income  avg_monthly_minute_usage  repeating_charge  \\\n",
       "0         44.08                    430.00             50.07   \n",
       "1         30.50                     86.00             30.00   \n",
       "2         30.65                     65.50             29.99   \n",
       "3         34.99                    425.25             44.99   \n",
       "4        170.75                   1657.25             61.69   \n",
       "\n",
       "   avg_assisted_calls  avg_overage_min_use  avg_roaming_calls  \\\n",
       "0                0.00                10.25                0.0   \n",
       "1                0.50                 0.00                0.0   \n",
       "2                0.00                 0.75                0.0   \n",
       "3                0.00                 0.00                0.0   \n",
       "4                1.73               458.75                0.0   \n",
       "\n",
       "   per_change_min_use  per_change_gross_profit  avg_drop_voice_call  \\\n",
       "0              -47.00                    -4.09                 0.00   \n",
       "1              -46.00                    -0.49                 1.33   \n",
       "2                4.50                    -0.66                 0.00   \n",
       "3               34.75                     0.00                 5.00   \n",
       "4            -1654.25                  -178.98                14.67   \n",
       "\n",
       "   ag_block_voice_call  ...   avg_outbound_voice_call  avg_incalls  \\\n",
       "0                 0.00  ...                      0.00         0.00   \n",
       "1                 0.00  ...                     11.33         0.67   \n",
       "2                 2.00  ...                      5.33         0.33   \n",
       "3                 1.33  ...                     16.67         5.33   \n",
       "4                 1.00  ...                    118.33        50.33   \n",
       "\n",
       "   avg_peakvoice  avg_off_peakvoice  avg_drop_block  avg_call_forwarding  \\\n",
       "0           0.00               0.00            0.00                  0.0   \n",
       "1          34.67              20.33            1.33                  0.0   \n",
       "2          17.67              10.67            2.00                  0.0   \n",
       "3          51.33              93.67            6.33                  0.0   \n",
       "4         665.67             400.33           15.67                  0.0   \n",
       "\n",
       "   avg_callwait  months  equip_days   age  \n",
       "0          0.00       8         243  62.0  \n",
       "1          0.00      25         736   0.0  \n",
       "2          0.00      21         634  32.0  \n",
       "3          0.67      11         305  32.0  \n",
       "4         35.67      23         132   0.0  \n",
       "\n",
       "[5 rows x 24 columns]"
      ]
     },
     "execution_count": 24,
     "metadata": {},
     "output_type": "execute_result"
    }
   ],
   "source": [
    "numerical.head()"
   ]
  },
  {
   "cell_type": "code",
   "execution_count": 25,
   "metadata": {},
   "outputs": [
    {
     "name": "stdout",
     "output_type": "stream",
     "text": [
      "avg_overage_min_use\n",
      "mou_rec\n",
      "avg_peakvoice\n",
      "avg_off_peakvoice\n",
      "avg_drop_block\n"
     ]
    }
   ],
   "source": [
    "#getting the name of those variables having correlation more than 0.75\n",
    "correlation(numerical,0.75)"
   ]
  },
  {
   "cell_type": "code",
   "execution_count": 26,
   "metadata": {
    "collapsed": true
   },
   "outputs": [],
   "source": [
    "#deleting those variable(correlated with each other)\n",
    "\n",
    "train=train.drop('avg_overage_min_use',axis=1)\n",
    "train=train.drop('mou_rec',axis=1)\n",
    "train=train.drop('avg_peakvoice',axis=1)\n",
    "train=train.drop('avg_off_peakvoice',axis=1)\n",
    "train=train.drop('avg_drop_block',axis=1)"
   ]
  },
  {
   "cell_type": "code",
   "execution_count": 27,
   "metadata": {
    "collapsed": true
   },
   "outputs": [],
   "source": [
    "#doing the same for test data\n",
    "test=test.drop('avg_overage_min_use',axis=1)\n",
    "test=test.drop('mou_rec',axis=1)\n",
    "test=test.drop('avg_peakvoice',axis=1)\n",
    "test=test.drop('avg_off_peakvoice',axis=1)\n",
    "test=test.drop('avg_drop_block',axis=1)"
   ]
  },
  {
   "cell_type": "code",
   "execution_count": 28,
   "metadata": {
    "collapsed": true
   },
   "outputs": [],
   "source": [
    "import seaborn as sns\n",
    "import matplotlib as mpl\n",
    "import matplotlib.pyplot as plt\n",
    "import matplotlib.pylab as pylab\n",
    "pylab.rcParams['figure.figsize'] = 14,10 # Big graphs unless specified\n",
    "sns.set(color_codes=True) # Set style and color of graphs"
   ]
  },
  {
   "cell_type": "code",
   "execution_count": 29,
   "metadata": {},
   "outputs": [
    {
     "name": "stderr",
     "output_type": "stream",
     "text": [
      "C:\\Users\\kallol\\Anaconda2\\lib\\site-packages\\matplotlib\\pyplot.py:524: RuntimeWarning: More than 20 figures have been opened. Figures created through the pyplot interface (`matplotlib.pyplot.figure`) are retained until explicitly closed and may consume too much memory. (To control this warning, see the rcParam `figure.max_open_warning`).\n",
      "  max_open_warning, RuntimeWarning)\n"
     ]
    },
    {
     "data": {
      "image/png": "[encoded data removed]",
      "text/plain": [
       "<matplotlib.figure.Figure at 0x137d5ba8>"
      ]
     },
     "metadata": {},
     "output_type": "display_data"
    },
    {
     "data": {
      "image/png": "[encoded data removed]",
      "text/plain": [
       "<matplotlib.figure.Figure at 0xd586048>"
      ]
     },
     "metadata": {},
     "output_type": "display_data"
    },
    {
     "data": {
      "image/png": "[encoded data removed]",
      "text/plain": [
       "<matplotlib.figure.Figure at 0x13db7208>"
      ]
     },
     "metadata": {},
     "output_type": "display_data"
    },
    {
     "data": {
      "image/png": "[encoded data removed]",
      "text/plain": [
       "<matplotlib.figure.Figure at 0x13dfff60>"
      ]
     },
     "metadata": {},
     "output_type": "display_data"
    },
    {
     "data": {
      "image/png": "[encoded data removed]",
      "text/plain": [
       "<matplotlib.figure.Figure at 0x14253cc0>"
      ]
     },
     "metadata": {},
     "output_type": "display_data"
    },
    {
     "data": {
      "image/png": "[encoded data removed]",
      "text/plain": [
       "<matplotlib.figure.Figure at 0x144dbe10>"
      ]
     },
     "metadata": {},
     "output_type": "display_data"
    },
    {
     "data": {
      "image/png": "[encoded data removed]",
      "text/plain": [
       "<matplotlib.figure.Figure at 0x145c6f98>"
      ]
     },
     "metadata": {},
     "output_type": "display_data"
    },
    {
     "data": {
      "image/png": "[encoded data removed]",
      "text/plain": [
       "<matplotlib.figure.Figure at 0x16a8b9b0>"
      ]
     },
     "metadata": {},
     "output_type": "display_data"
    },
    {
     "data": {
      "image/png": "[encoded data removed]",
      "text/plain": [
       "<matplotlib.figure.Figure at 0x14678898>"
      ]
     },
     "metadata": {},
     "output_type": "display_data"
    },
    {
     "data": {
      "image/png": "[encoded data removed]",
      "text/plain": [
       "<matplotlib.figure.Figure at 0x16c2e208>"
      ]
     },
     "metadata": {},
     "output_type": "display_data"
    },
    {
     "data": {
      "image/png": "[encoded data removed]",
      "text/plain": [
       "<matplotlib.figure.Figure at 0x16cc6908>"
      ]
     },
     "metadata": {},
     "output_type": "display_data"
    },
    {
     "data": {
      "image/png": "[encoded data removed]",
      "text/plain": [
       "<matplotlib.figure.Figure at 0x16e53748>"
      ]
     },
     "metadata": {},
     "output_type": "display_data"
    },
    {
     "data": {
      "image/png": "[encoded data removed]",
      "text/plain": [
       "<matplotlib.figure.Figure at 0x16ed4588>"
      ]
     },
     "metadata": {},
     "output_type": "display_data"
    },
    {
     "data": {
      "image/png": "[encoded data removed]",
      "text/plain": [
       "<matplotlib.figure.Figure at 0x17007198>"
      ]
     },
     "metadata": {},
     "output_type": "display_data"
    },
    {
     "data": {
      "image/png": "[encoded data removed]",
      "text/plain": [
       "<matplotlib.figure.Figure at 0x172e3668>"
      ]
     },
     "metadata": {},
     "output_type": "display_data"
    },
    {
     "data": {
      "image/png": "[encoded data removed]",
      "text/plain": [
       "<matplotlib.figure.Figure at 0x17248048>"
      ]
     },
     "metadata": {},
     "output_type": "display_data"
    },
    {
     "data": {
      "image/png": "[encoded data removed]",
      "text/plain": [
       "<matplotlib.figure.Figure at 0x1739ddd8>"
      ]
     },
     "metadata": {},
     "output_type": "display_data"
    },
    {
     "data": {
      "image/png": "[encoded data removed]",
      "text/plain": [
       "<matplotlib.figure.Figure at 0x175c9358>"
      ]
     },
     "metadata": {},
     "output_type": "display_data"
    },
    {
     "data": {
      "image/png": "[encoded data removed]",
      "text/plain": [
       "<matplotlib.figure.Figure at 0x1763a0b8>"
      ]
     },
     "metadata": {},
     "output_type": "display_data"
    },
    {
     "data": {
      "image/png": "[encoded data removed]",
      "text/plain": [
       "<matplotlib.figure.Figure at 0x17772828>"
      ]
     },
     "metadata": {},
     "output_type": "display_data"
    },
    {
     "data": {
      "image/png": "[encoded data removed]",
      "text/plain": [
       "<matplotlib.figure.Figure at 0x17837c50>"
      ]
     },
     "metadata": {},
     "output_type": "display_data"
    },
    {
     "data": {
      "image/png": "[encoded data removed]",
      "text/plain": [
       "<matplotlib.figure.Figure at 0x1783c128>"
      ]
     },
     "metadata": {},
     "output_type": "display_data"
    },
    {
     "data": {
      "image/png": "[encoded data removed]",
      "text/plain": [
       "<matplotlib.figure.Figure at 0x17aa90f0>"
      ]
     },
     "metadata": {},
     "output_type": "display_data"
    },
    {
     "data": {
      "image/png": "[encoded data removed]",
      "text/plain": [
       "<matplotlib.figure.Figure at 0x17be0668>"
      ]
     },
     "metadata": {},
     "output_type": "display_data"
    },
    {
     "data": {
      "image/png": "[encoded data removed]",
      "text/plain": [
       "<matplotlib.figure.Figure at 0x17dc6828>"
      ]
     },
     "metadata": {},
     "output_type": "display_data"
    },
    {
     "data": {
      "image/png": "[encoded data removed]",
      "text/plain": [
       "<matplotlib.figure.Figure at 0x17e910f0>"
      ]
     },
     "metadata": {},
     "output_type": "display_data"
    },
    {
     "data": {
      "image/png": "[encoded data removed]",
      "text/plain": [
       "<matplotlib.figure.Figure at 0x180694a8>"
      ]
     },
     "metadata": {},
     "output_type": "display_data"
    },
    {
     "data": {
      "image/png": "[encoded data removed]",
      "text/plain": [
       "<matplotlib.figure.Figure at 0x18178d30>"
      ]
     },
     "metadata": {},
     "output_type": "display_data"
    },
    {
     "data": {
      "image/png": "[encoded data removed]",
      "text/plain": [
       "<matplotlib.figure.Figure at 0x181db6d8>"
      ]
     },
     "metadata": {},
     "output_type": "display_data"
    },
    {
     "data": {
      "image/png": "[encoded data removed]",
      "text/plain": [
       "<matplotlib.figure.Figure at 0x1843e7b8>"
      ]
     },
     "metadata": {},
     "output_type": "display_data"
    },
    {
     "data": {
      "image/png": "[encoded data removed]",
      "text/plain": [
       "<matplotlib.figure.Figure at 0x18339cc0>"
      ]
     },
     "metadata": {},
     "output_type": "display_data"
    }
   ],
   "source": [
    "#displaying the relation beteween response variable and every categorical variables as bar graph\n",
    "for i in cat:\n",
    "    plt.figure(figsize=(14,6))\n",
    "    sns.barplot(notnull.columns[i], 'Left', data=notnull)"
   ]
  },
  {
   "cell_type": "code",
   "execution_count": 30,
   "metadata": {
    "collapsed": true
   },
   "outputs": [],
   "source": [
    "#creating category for credit_rating_up_down column according to graph, combining categories which are behaving same\n",
    "\n",
    "for i in range(0,48719):\n",
    "    if(notnull.credit_rating_up_down.values[i]==8 or notnull.credit_rating_up_down.values[i]==6):\n",
    "        notnull.credit_rating_up_down.values[i]=1\n",
    "    else:\n",
    "        notnull.credit_rating_up_down.values[i]=2"
   ]
  },
  {
   "cell_type": "code",
   "execution_count": 31,
   "metadata": {
    "collapsed": true
   },
   "outputs": [],
   "source": [
    "#creating category for income column according to graph, combining categories which are behaving same\n",
    "for i in range(0,48719):\n",
    "    if(notnull.income.values[i]==0 or notnull.income.values[i]==7):\n",
    "        notnull.income.values[i]=1\n",
    "    else:\n",
    "        notnull.income.values[i]=2"
   ]
  },
  {
   "cell_type": "code",
   "execution_count": 32,
   "metadata": {
    "collapsed": true
   },
   "outputs": [],
   "source": [
    "##creating category for is_referral_made column according to graph, combining categories which are behaving same\n",
    "for i in range(0,48719):\n",
    "    if(notnull.is_referral_made.values[i]<=2):\n",
    "        notnull.is_referral_made.values[i]=1\n",
    "    elif(notnull.is_referral_made.values[i]>2):\n",
    "        notnull.is_referral_made.values[i]=2"
   ]
  },
  {
   "cell_type": "code",
   "execution_count": 33,
   "metadata": {
    "collapsed": true
   },
   "outputs": [],
   "source": [
    "#creating category for model column according to graph, combining categories which are behaving same\n",
    "for i in range(0,48719):\n",
    "    if(notnull.model.values[i]==7 or notnull.model.values[i]>=9):\n",
    "        notnull.model.values[i]=1\n",
    "    elif(notnull.model.values[i]==1 or notnull.model.values[i]==8):\n",
    "        notnull.model.values[i]=2\n",
    "    elif(notnull.model.values[i]>=2 and notnull.model.values[i]<=6):\n",
    "        notnull.model.values[i]=3"
   ]
  },
  {
   "cell_type": "code",
   "execution_count": 34,
   "metadata": {},
   "outputs": [
    {
     "data": {
      "text/plain": [
       "Counter({1: 17343, 2: 31376})"
      ]
     },
     "execution_count": 34,
     "metadata": {},
     "output_type": "execute_result"
    }
   ],
   "source": [
    "Counter(notnull.income)"
   ]
  },
  {
   "cell_type": "code",
   "execution_count": 35,
   "metadata": {
    "collapsed": true
   },
   "outputs": [],
   "source": [
    "#creating category for unique_sub column according to graph, combining categories which are behaving same\n",
    "for i in range(0,48719):\n",
    "    if(notnull.unique_sub.values[i]<=8):\n",
    "        notnull.unique_sub.values[i]=1\n",
    "    elif(notnull.unique_sub.values[i]>8 and notnull.unique_sub.values[i]<=12):\n",
    "        notnull.unique_sub.values[i]=2\n",
    "    elif(notnull.unique_sub.values[i]>12):\n",
    "        notnull.unique_sub.values[i]=3"
   ]
  },
  {
   "cell_type": "code",
   "execution_count": 36,
   "metadata": {
    "collapsed": true
   },
   "outputs": [],
   "source": [
    "#creating category for active_sub column according to graph, combining categories which are behaving same\n",
    "for i in range(0,48719):\n",
    "    if(notnull.active_sub.values[i]<=7):\n",
    "        notnull.active_sub.values[i]=1\n",
    "    elif(notnull.active_sub.values[i]>7):\n",
    "        notnull.active_sub.values[i]=2"
   ]
  },
  {
   "cell_type": "code",
   "execution_count": 37,
   "metadata": {
    "collapsed": true
   },
   "outputs": [],
   "source": [
    "#creating category for handset column according to graph, combining categories which are behaving same\n",
    "for i in range(0,48719):\n",
    "    if(notnull.handset.values[i]<=16):\n",
    "        notnull.handset.values[i]=1\n",
    "    elif(notnull.handset.values[i]>16):\n",
    "        notnull.handset.values[i]=2"
   ]
  },
  {
   "cell_type": "code",
   "execution_count": 38,
   "metadata": {
    "collapsed": true
   },
   "outputs": [],
   "source": [
    "#dropping multicorrelated column from not null dataset, as notnull dataset will be used for further model building\n",
    "notnull=notnull.drop('avg_overage_min_use',axis=1)\n",
    "notnull=notnull.drop('mou_rec',axis=1)\n",
    "notnull=notnull.drop('avg_peakvoice',axis=1)\n",
    "notnull=notnull.drop('avg_off_peakvoice',axis=1)\n",
    "notnull=notnull.drop('avg_drop_block',axis=1)\n",
    "#notnull=notnull.drop('Left',axis=1)"
   ]
  },
  {
   "cell_type": "code",
   "execution_count": 39,
   "metadata": {},
   "outputs": [
    {
     "data": {
      "text/plain": [
       "gross_income                float64\n",
       "avg_monthly_minute_usage    float64\n",
       "repeating_charge            float64\n",
       "avg_assisted_calls          float64\n",
       "avg_roaming_calls           float64\n",
       "per_change_min_use          float64\n",
       "per_change_gross_profit     float64\n",
       "avg_drop_voice_call         float64\n",
       "ag_block_voice_call         float64\n",
       "avg_unans_voice_call        float64\n",
       "avg_custmore_care_call      float64\n",
       "avg_threeway_call           float64\n",
       "avg_outbound_voice_call     float64\n",
       "avg_incalls                 float64\n",
       "avg_call_forwarding         float64\n",
       "avg_callwait                float64\n",
       "months                        int64\n",
       "unique_sub                    int64\n",
       "active_sub                    int64\n",
       "handset                       int64\n",
       "model                         int64\n",
       "equip_days                    int64\n",
       "age                         float64\n",
       "children                      int64\n",
       "CR.A                          int64\n",
       "CR.AA                         int64\n",
       "CR.B                          int64\n",
       "CR.C                          int64\n",
       "CR.DE                         int64\n",
       "is_rural                      int64\n",
       "is_subUrban                   int64\n",
       "is_town                       int64\n",
       "HS_refurb                     int64\n",
       "HS.web_enable                 int64\n",
       "emp_level.C                   int64\n",
       "is_student                    int64\n",
       "is_housemaker                 int64\n",
       "is_retired                    int64\n",
       "is_selfEmployed               int64\n",
       "is_house_rented               int64\n",
       "is_married                    int64\n",
       "is_online_purchaser           int64\n",
       "mail_active                   int64\n",
       "frequent_traveller            int64\n",
       "access_to_pc                  int64\n",
       "credit_card                   int64\n",
       "is_referral_made              int64\n",
       "income                        int64\n",
       "access_twowheeler             int64\n",
       "credit_rating_up_down         int64\n",
       "Left                          int64\n",
       "dtype: object"
      ]
     },
     "execution_count": 39,
     "metadata": {},
     "output_type": "execute_result"
    }
   ],
   "source": [
    "#checking out the datatypes of the not null dataset\n",
    "notnull.dtypes"
   ]
  },
  {
   "cell_type": "code",
   "execution_count": 40,
   "metadata": {
    "collapsed": true
   },
   "outputs": [],
   "source": [
    "#from the graph displayed above, we can conclude that following columns are not impacting the response variable, so better to\n",
    "#drop them\n",
    "\n",
    "notnull=notnull.drop('children',axis=1)\n",
    "notnull=notnull.drop('CR.A',axis=1)\n",
    "notnull=notnull.drop('CR.AA',axis=1)\n",
    "notnull=notnull.drop('CR.B',axis=1)\n",
    "notnull=notnull.drop('is_subUrban',axis=1)\n",
    "notnull=notnull.drop('is_town',axis=1)\n",
    "notnull=notnull.drop('emp_level.C',axis=1)\n",
    "notnull=notnull.drop('is_student',axis=1)\n",
    "notnull=notnull.drop('is_housemaker',axis=1)\n",
    "notnull=notnull.drop('is_retired',axis=1)\n",
    "notnull=notnull.drop('is_selfEmployed',axis=1)\n",
    "notnull=notnull.drop('is_house_rented',axis=1)\n",
    "notnull=notnull.drop('is_married',axis=1)\n",
    "notnull=notnull.drop('is_online_purchaser',axis=1)\n",
    "notnull=notnull.drop('mail_active',axis=1)\n",
    "notnull=notnull.drop('frequent_traveller',axis=1)\n",
    "notnull=notnull.drop('access_to_pc',axis=1)\n",
    "notnull=notnull.drop('access_twowheeler',axis=1)"
   ]
  },
  {
   "cell_type": "code",
   "execution_count": 41,
   "metadata": {
    "collapsed": true
   },
   "outputs": [],
   "source": [
    "notnull=notnull.drop('credit_card',axis=1)"
   ]
  },
  {
   "cell_type": "code",
   "execution_count": 42,
   "metadata": {
    "collapsed": true
   },
   "outputs": [],
   "source": [
    "#few binary categories are there we are converting them into dummy variables\n",
    "notnull['CR.DE']=pd.get_dummies(notnull['CR.DE'])"
   ]
  },
  {
   "cell_type": "code",
   "execution_count": 43,
   "metadata": {
    "collapsed": true
   },
   "outputs": [],
   "source": [
    "notnull.is_rural=pd.get_dummies(notnull.is_rural)"
   ]
  },
  {
   "cell_type": "code",
   "execution_count": 44,
   "metadata": {
    "collapsed": true
   },
   "outputs": [],
   "source": [
    "notnull.is_referral_made=pd.get_dummies(notnull.is_referral_made)\n",
    "notnull['HS.web_enable']=pd.get_dummies(notnull['HS.web_enable'])"
   ]
  },
  {
   "cell_type": "code",
   "execution_count": 45,
   "metadata": {},
   "outputs": [
    {
     "data": {
      "text/html": [
       "<div>\n",
       "<style>\n",
       "    .dataframe thead tr:only-child th {\n",
       "        text-align: right;\n",
       "    }\n",
       "\n",
       "    .dataframe thead th {\n",
       "        text-align: left;\n",
       "    }\n",
       "\n",
       "    .dataframe tbody tr th {\n",
       "        vertical-align: top;\n",
       "    }\n",
       "</style>\n",
       "<table border=\"1\" class=\"dataframe\">\n",
       "  <thead>\n",
       "    <tr style=\"text-align: right;\">\n",
       "      <th></th>\n",
       "      <th>gross_income</th>\n",
       "      <th>avg_monthly_minute_usage</th>\n",
       "      <th>repeating_charge</th>\n",
       "      <th>avg_assisted_calls</th>\n",
       "      <th>avg_roaming_calls</th>\n",
       "      <th>per_change_min_use</th>\n",
       "      <th>per_change_gross_profit</th>\n",
       "      <th>avg_drop_voice_call</th>\n",
       "      <th>ag_block_voice_call</th>\n",
       "      <th>avg_unans_voice_call</th>\n",
       "      <th>...</th>\n",
       "      <th>age</th>\n",
       "      <th>CR.C</th>\n",
       "      <th>CR.DE</th>\n",
       "      <th>is_rural</th>\n",
       "      <th>HS_refurb</th>\n",
       "      <th>HS.web_enable</th>\n",
       "      <th>is_referral_made</th>\n",
       "      <th>income</th>\n",
       "      <th>credit_rating_up_down</th>\n",
       "      <th>Left</th>\n",
       "    </tr>\n",
       "  </thead>\n",
       "  <tbody>\n",
       "    <tr>\n",
       "      <th>0</th>\n",
       "      <td>44.08</td>\n",
       "      <td>430.00</td>\n",
       "      <td>50.07</td>\n",
       "      <td>0.00</td>\n",
       "      <td>0.0</td>\n",
       "      <td>-47.00</td>\n",
       "      <td>-4.09</td>\n",
       "      <td>0.00</td>\n",
       "      <td>0.00</td>\n",
       "      <td>0.00</td>\n",
       "      <td>...</td>\n",
       "      <td>62.0</td>\n",
       "      <td>0</td>\n",
       "      <td>1</td>\n",
       "      <td>1</td>\n",
       "      <td>0</td>\n",
       "      <td>0</td>\n",
       "      <td>1</td>\n",
       "      <td>2</td>\n",
       "      <td>2</td>\n",
       "      <td>1</td>\n",
       "    </tr>\n",
       "    <tr>\n",
       "      <th>1</th>\n",
       "      <td>30.50</td>\n",
       "      <td>86.00</td>\n",
       "      <td>30.00</td>\n",
       "      <td>0.50</td>\n",
       "      <td>0.0</td>\n",
       "      <td>-46.00</td>\n",
       "      <td>-0.49</td>\n",
       "      <td>1.33</td>\n",
       "      <td>0.00</td>\n",
       "      <td>5.00</td>\n",
       "      <td>...</td>\n",
       "      <td>0.0</td>\n",
       "      <td>1</td>\n",
       "      <td>1</td>\n",
       "      <td>1</td>\n",
       "      <td>0</td>\n",
       "      <td>0</td>\n",
       "      <td>1</td>\n",
       "      <td>1</td>\n",
       "      <td>2</td>\n",
       "      <td>0</td>\n",
       "    </tr>\n",
       "    <tr>\n",
       "      <th>2</th>\n",
       "      <td>30.65</td>\n",
       "      <td>65.50</td>\n",
       "      <td>29.99</td>\n",
       "      <td>0.00</td>\n",
       "      <td>0.0</td>\n",
       "      <td>4.50</td>\n",
       "      <td>-0.66</td>\n",
       "      <td>0.00</td>\n",
       "      <td>2.00</td>\n",
       "      <td>6.67</td>\n",
       "      <td>...</td>\n",
       "      <td>32.0</td>\n",
       "      <td>0</td>\n",
       "      <td>1</td>\n",
       "      <td>1</td>\n",
       "      <td>0</td>\n",
       "      <td>0</td>\n",
       "      <td>1</td>\n",
       "      <td>2</td>\n",
       "      <td>2</td>\n",
       "      <td>1</td>\n",
       "    </tr>\n",
       "    <tr>\n",
       "      <th>3</th>\n",
       "      <td>34.99</td>\n",
       "      <td>425.25</td>\n",
       "      <td>44.99</td>\n",
       "      <td>0.00</td>\n",
       "      <td>0.0</td>\n",
       "      <td>34.75</td>\n",
       "      <td>0.00</td>\n",
       "      <td>5.00</td>\n",
       "      <td>1.33</td>\n",
       "      <td>34.00</td>\n",
       "      <td>...</td>\n",
       "      <td>32.0</td>\n",
       "      <td>0</td>\n",
       "      <td>1</td>\n",
       "      <td>1</td>\n",
       "      <td>0</td>\n",
       "      <td>0</td>\n",
       "      <td>1</td>\n",
       "      <td>2</td>\n",
       "      <td>2</td>\n",
       "      <td>1</td>\n",
       "    </tr>\n",
       "    <tr>\n",
       "      <th>4</th>\n",
       "      <td>170.75</td>\n",
       "      <td>1657.25</td>\n",
       "      <td>61.69</td>\n",
       "      <td>1.73</td>\n",
       "      <td>0.0</td>\n",
       "      <td>-1654.25</td>\n",
       "      <td>-178.98</td>\n",
       "      <td>14.67</td>\n",
       "      <td>1.00</td>\n",
       "      <td>159.67</td>\n",
       "      <td>...</td>\n",
       "      <td>0.0</td>\n",
       "      <td>0</td>\n",
       "      <td>0</td>\n",
       "      <td>1</td>\n",
       "      <td>0</td>\n",
       "      <td>0</td>\n",
       "      <td>1</td>\n",
       "      <td>1</td>\n",
       "      <td>2</td>\n",
       "      <td>0</td>\n",
       "    </tr>\n",
       "  </tbody>\n",
       "</table>\n",
       "<p>5 rows × 32 columns</p>\n",
       "</div>"
      ],
      "text/plain": [
       "   gross_income  avg_monthly_minute_usage  repeating_charge  \\\n",
       "0         44.08                    430.00             50.07   \n",
       "1         30.50                     86.00             30.00   \n",
       "2         30.65                     65.50             29.99   \n",
       "3         34.99                    425.25             44.99   \n",
       "4        170.75                   1657.25             61.69   \n",
       "\n",
       "   avg_assisted_calls  avg_roaming_calls  per_change_min_use  \\\n",
       "0                0.00                0.0              -47.00   \n",
       "1                0.50                0.0              -46.00   \n",
       "2                0.00                0.0                4.50   \n",
       "3                0.00                0.0               34.75   \n",
       "4                1.73                0.0            -1654.25   \n",
       "\n",
       "   per_change_gross_profit  avg_drop_voice_call  ag_block_voice_call  \\\n",
       "0                    -4.09                 0.00                 0.00   \n",
       "1                    -0.49                 1.33                 0.00   \n",
       "2                    -0.66                 0.00                 2.00   \n",
       "3                     0.00                 5.00                 1.33   \n",
       "4                  -178.98                14.67                 1.00   \n",
       "\n",
       "   avg_unans_voice_call  ...    age  CR.C  CR.DE  is_rural  HS_refurb  \\\n",
       "0                  0.00  ...   62.0     0      1         1          0   \n",
       "1                  5.00  ...    0.0     1      1         1          0   \n",
       "2                  6.67  ...   32.0     0      1         1          0   \n",
       "3                 34.00  ...   32.0     0      1         1          0   \n",
       "4                159.67  ...    0.0     0      0         1          0   \n",
       "\n",
       "   HS.web_enable  is_referral_made  income  credit_rating_up_down  Left  \n",
       "0              0                 1       2                      2     1  \n",
       "1              0                 1       1                      2     0  \n",
       "2              0                 1       2                      2     1  \n",
       "3              0                 1       2                      2     1  \n",
       "4              0                 1       1                      2     0  \n",
       "\n",
       "[5 rows x 32 columns]"
      ]
     },
     "execution_count": 45,
     "metadata": {},
     "output_type": "execute_result"
    }
   ],
   "source": [
    "notnull.head()"
   ]
  },
  {
   "cell_type": "code",
   "execution_count": 46,
   "metadata": {
    "collapsed": true
   },
   "outputs": [],
   "source": [
    "notnull=notnull.drop('age',axis=1)"
   ]
  },
  {
   "cell_type": "code",
   "execution_count": 47,
   "metadata": {
    "collapsed": true
   },
   "outputs": [],
   "source": [
    "#the data set is imbalanced, so we need to balance it by under sampling. So we are creating two datasets, one with all zeros \n",
    "# and another with all ones.\n",
    "\n",
    "notnull0=notnull[notnull.Left==0]\n",
    "notnull1=notnull[notnull.Left==1]"
   ]
  },
  {
   "cell_type": "code",
   "execution_count": 48,
   "metadata": {},
   "outputs": [
    {
     "data": {
      "text/plain": [
       "Counter({0: 34725, 1: 13994})"
      ]
     },
     "execution_count": 48,
     "metadata": {},
     "output_type": "execute_result"
    }
   ],
   "source": [
    "#checking how many zeros and how many ones are in the dataset\n",
    "Counter(notnull.Left)"
   ]
  },
  {
   "cell_type": "code",
   "execution_count": 49,
   "metadata": {
    "collapsed": true
   },
   "outputs": [],
   "source": [
    "#since we have more zeros than one, we need to undersample zeros, so we are selecting the same numbers of zeros like ones\n",
    "notnull0=notnull0.sample(n=13994)"
   ]
  },
  {
   "cell_type": "code",
   "execution_count": 50,
   "metadata": {
    "collapsed": true
   },
   "outputs": [],
   "source": [
    "#joining two datasets\n",
    "balancedData=notnull0.append(notnull1)"
   ]
  },
  {
   "cell_type": "code",
   "execution_count": 51,
   "metadata": {
    "collapsed": true
   },
   "outputs": [],
   "source": [
    "#mixing up\n",
    "balancedData=balancedData.sample(frac=1).reset_index(drop=True)"
   ]
  },
  {
   "cell_type": "code",
   "execution_count": 52,
   "metadata": {},
   "outputs": [
    {
     "data": {
      "text/html": [
       "<div>\n",
       "<style>\n",
       "    .dataframe thead tr:only-child th {\n",
       "        text-align: right;\n",
       "    }\n",
       "\n",
       "    .dataframe thead th {\n",
       "        text-align: left;\n",
       "    }\n",
       "\n",
       "    .dataframe tbody tr th {\n",
       "        vertical-align: top;\n",
       "    }\n",
       "</style>\n",
       "<table border=\"1\" class=\"dataframe\">\n",
       "  <thead>\n",
       "    <tr style=\"text-align: right;\">\n",
       "      <th></th>\n",
       "      <th>gross_income</th>\n",
       "      <th>avg_monthly_minute_usage</th>\n",
       "      <th>repeating_charge</th>\n",
       "      <th>avg_assisted_calls</th>\n",
       "      <th>avg_roaming_calls</th>\n",
       "      <th>per_change_min_use</th>\n",
       "      <th>per_change_gross_profit</th>\n",
       "      <th>avg_drop_voice_call</th>\n",
       "      <th>ag_block_voice_call</th>\n",
       "      <th>avg_unans_voice_call</th>\n",
       "      <th>...</th>\n",
       "      <th>equip_days</th>\n",
       "      <th>CR.C</th>\n",
       "      <th>CR.DE</th>\n",
       "      <th>is_rural</th>\n",
       "      <th>HS_refurb</th>\n",
       "      <th>HS.web_enable</th>\n",
       "      <th>is_referral_made</th>\n",
       "      <th>income</th>\n",
       "      <th>credit_rating_up_down</th>\n",
       "      <th>Left</th>\n",
       "    </tr>\n",
       "  </thead>\n",
       "  <tbody>\n",
       "    <tr>\n",
       "      <th>0</th>\n",
       "      <td>44.08</td>\n",
       "      <td>430.00</td>\n",
       "      <td>50.07</td>\n",
       "      <td>0.00</td>\n",
       "      <td>0.0</td>\n",
       "      <td>-47.00</td>\n",
       "      <td>-4.09</td>\n",
       "      <td>0.00</td>\n",
       "      <td>0.00</td>\n",
       "      <td>0.00</td>\n",
       "      <td>...</td>\n",
       "      <td>243</td>\n",
       "      <td>0</td>\n",
       "      <td>1</td>\n",
       "      <td>1</td>\n",
       "      <td>0</td>\n",
       "      <td>0</td>\n",
       "      <td>1</td>\n",
       "      <td>2</td>\n",
       "      <td>2</td>\n",
       "      <td>1</td>\n",
       "    </tr>\n",
       "    <tr>\n",
       "      <th>1</th>\n",
       "      <td>30.50</td>\n",
       "      <td>86.00</td>\n",
       "      <td>30.00</td>\n",
       "      <td>0.50</td>\n",
       "      <td>0.0</td>\n",
       "      <td>-46.00</td>\n",
       "      <td>-0.49</td>\n",
       "      <td>1.33</td>\n",
       "      <td>0.00</td>\n",
       "      <td>5.00</td>\n",
       "      <td>...</td>\n",
       "      <td>736</td>\n",
       "      <td>1</td>\n",
       "      <td>1</td>\n",
       "      <td>1</td>\n",
       "      <td>0</td>\n",
       "      <td>0</td>\n",
       "      <td>1</td>\n",
       "      <td>1</td>\n",
       "      <td>2</td>\n",
       "      <td>0</td>\n",
       "    </tr>\n",
       "    <tr>\n",
       "      <th>2</th>\n",
       "      <td>30.65</td>\n",
       "      <td>65.50</td>\n",
       "      <td>29.99</td>\n",
       "      <td>0.00</td>\n",
       "      <td>0.0</td>\n",
       "      <td>4.50</td>\n",
       "      <td>-0.66</td>\n",
       "      <td>0.00</td>\n",
       "      <td>2.00</td>\n",
       "      <td>6.67</td>\n",
       "      <td>...</td>\n",
       "      <td>634</td>\n",
       "      <td>0</td>\n",
       "      <td>1</td>\n",
       "      <td>1</td>\n",
       "      <td>0</td>\n",
       "      <td>0</td>\n",
       "      <td>1</td>\n",
       "      <td>2</td>\n",
       "      <td>2</td>\n",
       "      <td>1</td>\n",
       "    </tr>\n",
       "    <tr>\n",
       "      <th>3</th>\n",
       "      <td>34.99</td>\n",
       "      <td>425.25</td>\n",
       "      <td>44.99</td>\n",
       "      <td>0.00</td>\n",
       "      <td>0.0</td>\n",
       "      <td>34.75</td>\n",
       "      <td>0.00</td>\n",
       "      <td>5.00</td>\n",
       "      <td>1.33</td>\n",
       "      <td>34.00</td>\n",
       "      <td>...</td>\n",
       "      <td>305</td>\n",
       "      <td>0</td>\n",
       "      <td>1</td>\n",
       "      <td>1</td>\n",
       "      <td>0</td>\n",
       "      <td>0</td>\n",
       "      <td>1</td>\n",
       "      <td>2</td>\n",
       "      <td>2</td>\n",
       "      <td>1</td>\n",
       "    </tr>\n",
       "    <tr>\n",
       "      <th>4</th>\n",
       "      <td>170.75</td>\n",
       "      <td>1657.25</td>\n",
       "      <td>61.69</td>\n",
       "      <td>1.73</td>\n",
       "      <td>0.0</td>\n",
       "      <td>-1654.25</td>\n",
       "      <td>-178.98</td>\n",
       "      <td>14.67</td>\n",
       "      <td>1.00</td>\n",
       "      <td>159.67</td>\n",
       "      <td>...</td>\n",
       "      <td>132</td>\n",
       "      <td>0</td>\n",
       "      <td>0</td>\n",
       "      <td>1</td>\n",
       "      <td>0</td>\n",
       "      <td>0</td>\n",
       "      <td>1</td>\n",
       "      <td>1</td>\n",
       "      <td>2</td>\n",
       "      <td>0</td>\n",
       "    </tr>\n",
       "  </tbody>\n",
       "</table>\n",
       "<p>5 rows × 31 columns</p>\n",
       "</div>"
      ],
      "text/plain": [
       "   gross_income  avg_monthly_minute_usage  repeating_charge  \\\n",
       "0         44.08                    430.00             50.07   \n",
       "1         30.50                     86.00             30.00   \n",
       "2         30.65                     65.50             29.99   \n",
       "3         34.99                    425.25             44.99   \n",
       "4        170.75                   1657.25             61.69   \n",
       "\n",
       "   avg_assisted_calls  avg_roaming_calls  per_change_min_use  \\\n",
       "0                0.00                0.0              -47.00   \n",
       "1                0.50                0.0              -46.00   \n",
       "2                0.00                0.0                4.50   \n",
       "3                0.00                0.0               34.75   \n",
       "4                1.73                0.0            -1654.25   \n",
       "\n",
       "   per_change_gross_profit  avg_drop_voice_call  ag_block_voice_call  \\\n",
       "0                    -4.09                 0.00                 0.00   \n",
       "1                    -0.49                 1.33                 0.00   \n",
       "2                    -0.66                 0.00                 2.00   \n",
       "3                     0.00                 5.00                 1.33   \n",
       "4                  -178.98                14.67                 1.00   \n",
       "\n",
       "   avg_unans_voice_call  ...   equip_days  CR.C  CR.DE  is_rural  HS_refurb  \\\n",
       "0                  0.00  ...          243     0      1         1          0   \n",
       "1                  5.00  ...          736     1      1         1          0   \n",
       "2                  6.67  ...          634     0      1         1          0   \n",
       "3                 34.00  ...          305     0      1         1          0   \n",
       "4                159.67  ...          132     0      0         1          0   \n",
       "\n",
       "   HS.web_enable  is_referral_made  income  credit_rating_up_down  Left  \n",
       "0              0                 1       2                      2     1  \n",
       "1              0                 1       1                      2     0  \n",
       "2              0                 1       2                      2     1  \n",
       "3              0                 1       2                      2     1  \n",
       "4              0                 1       1                      2     0  \n",
       "\n",
       "[5 rows x 31 columns]"
      ]
     },
     "execution_count": 52,
     "metadata": {},
     "output_type": "execute_result"
    }
   ],
   "source": [
    "notnull.head()"
   ]
  },
  {
   "cell_type": "code",
   "execution_count": 53,
   "metadata": {},
   "outputs": [
    {
     "data": {
      "text/html": [
       "<div>\n",
       "<style>\n",
       "    .dataframe thead tr:only-child th {\n",
       "        text-align: right;\n",
       "    }\n",
       "\n",
       "    .dataframe thead th {\n",
       "        text-align: left;\n",
       "    }\n",
       "\n",
       "    .dataframe tbody tr th {\n",
       "        vertical-align: top;\n",
       "    }\n",
       "</style>\n",
       "<table border=\"1\" class=\"dataframe\">\n",
       "  <thead>\n",
       "    <tr style=\"text-align: right;\">\n",
       "      <th></th>\n",
       "      <th>gross_income</th>\n",
       "      <th>avg_monthly_minute_usage</th>\n",
       "      <th>repeating_charge</th>\n",
       "      <th>avg_assisted_calls</th>\n",
       "      <th>avg_roaming_calls</th>\n",
       "      <th>per_change_min_use</th>\n",
       "      <th>per_change_gross_profit</th>\n",
       "      <th>avg_drop_voice_call</th>\n",
       "      <th>ag_block_voice_call</th>\n",
       "      <th>avg_unans_voice_call</th>\n",
       "      <th>...</th>\n",
       "      <th>equip_days</th>\n",
       "      <th>CR.C</th>\n",
       "      <th>CR.DE</th>\n",
       "      <th>is_rural</th>\n",
       "      <th>HS_refurb</th>\n",
       "      <th>HS.web_enable</th>\n",
       "      <th>is_referral_made</th>\n",
       "      <th>income</th>\n",
       "      <th>credit_rating_up_down</th>\n",
       "      <th>Left</th>\n",
       "    </tr>\n",
       "  </thead>\n",
       "  <tbody>\n",
       "    <tr>\n",
       "      <th>0</th>\n",
       "      <td>31.11</td>\n",
       "      <td>199.50</td>\n",
       "      <td>19.99</td>\n",
       "      <td>0.25</td>\n",
       "      <td>0.00</td>\n",
       "      <td>45.50</td>\n",
       "      <td>4.13</td>\n",
       "      <td>0.00</td>\n",
       "      <td>6.00</td>\n",
       "      <td>1.67</td>\n",
       "      <td>...</td>\n",
       "      <td>398</td>\n",
       "      <td>0</td>\n",
       "      <td>1</td>\n",
       "      <td>1</td>\n",
       "      <td>0</td>\n",
       "      <td>0</td>\n",
       "      <td>1</td>\n",
       "      <td>2</td>\n",
       "      <td>2</td>\n",
       "      <td>1</td>\n",
       "    </tr>\n",
       "    <tr>\n",
       "      <th>1</th>\n",
       "      <td>36.06</td>\n",
       "      <td>166.00</td>\n",
       "      <td>29.99</td>\n",
       "      <td>0.74</td>\n",
       "      <td>0.00</td>\n",
       "      <td>-44.00</td>\n",
       "      <td>-6.58</td>\n",
       "      <td>1.67</td>\n",
       "      <td>6.33</td>\n",
       "      <td>13.00</td>\n",
       "      <td>...</td>\n",
       "      <td>521</td>\n",
       "      <td>0</td>\n",
       "      <td>1</td>\n",
       "      <td>1</td>\n",
       "      <td>0</td>\n",
       "      <td>0</td>\n",
       "      <td>1</td>\n",
       "      <td>2</td>\n",
       "      <td>2</td>\n",
       "      <td>0</td>\n",
       "    </tr>\n",
       "    <tr>\n",
       "      <th>2</th>\n",
       "      <td>57.87</td>\n",
       "      <td>1137.75</td>\n",
       "      <td>8.23</td>\n",
       "      <td>2.23</td>\n",
       "      <td>0.29</td>\n",
       "      <td>2.25</td>\n",
       "      <td>-5.48</td>\n",
       "      <td>5.00</td>\n",
       "      <td>2.00</td>\n",
       "      <td>39.00</td>\n",
       "      <td>...</td>\n",
       "      <td>391</td>\n",
       "      <td>0</td>\n",
       "      <td>1</td>\n",
       "      <td>1</td>\n",
       "      <td>0</td>\n",
       "      <td>0</td>\n",
       "      <td>1</td>\n",
       "      <td>2</td>\n",
       "      <td>2</td>\n",
       "      <td>1</td>\n",
       "    </tr>\n",
       "    <tr>\n",
       "      <th>3</th>\n",
       "      <td>10.00</td>\n",
       "      <td>311.00</td>\n",
       "      <td>10.00</td>\n",
       "      <td>0.00</td>\n",
       "      <td>0.00</td>\n",
       "      <td>29.00</td>\n",
       "      <td>0.00</td>\n",
       "      <td>1.33</td>\n",
       "      <td>0.67</td>\n",
       "      <td>7.00</td>\n",
       "      <td>...</td>\n",
       "      <td>486</td>\n",
       "      <td>0</td>\n",
       "      <td>1</td>\n",
       "      <td>1</td>\n",
       "      <td>0</td>\n",
       "      <td>0</td>\n",
       "      <td>1</td>\n",
       "      <td>1</td>\n",
       "      <td>2</td>\n",
       "      <td>1</td>\n",
       "    </tr>\n",
       "    <tr>\n",
       "      <th>4</th>\n",
       "      <td>32.61</td>\n",
       "      <td>206.00</td>\n",
       "      <td>39.99</td>\n",
       "      <td>0.99</td>\n",
       "      <td>1.63</td>\n",
       "      <td>139.00</td>\n",
       "      <td>1.51</td>\n",
       "      <td>3.00</td>\n",
       "      <td>0.00</td>\n",
       "      <td>6.67</td>\n",
       "      <td>...</td>\n",
       "      <td>393</td>\n",
       "      <td>0</td>\n",
       "      <td>1</td>\n",
       "      <td>1</td>\n",
       "      <td>0</td>\n",
       "      <td>0</td>\n",
       "      <td>1</td>\n",
       "      <td>1</td>\n",
       "      <td>2</td>\n",
       "      <td>0</td>\n",
       "    </tr>\n",
       "  </tbody>\n",
       "</table>\n",
       "<p>5 rows × 31 columns</p>\n",
       "</div>"
      ],
      "text/plain": [
       "   gross_income  avg_monthly_minute_usage  repeating_charge  \\\n",
       "0         31.11                    199.50             19.99   \n",
       "1         36.06                    166.00             29.99   \n",
       "2         57.87                   1137.75              8.23   \n",
       "3         10.00                    311.00             10.00   \n",
       "4         32.61                    206.00             39.99   \n",
       "\n",
       "   avg_assisted_calls  avg_roaming_calls  per_change_min_use  \\\n",
       "0                0.25               0.00               45.50   \n",
       "1                0.74               0.00              -44.00   \n",
       "2                2.23               0.29                2.25   \n",
       "3                0.00               0.00               29.00   \n",
       "4                0.99               1.63              139.00   \n",
       "\n",
       "   per_change_gross_profit  avg_drop_voice_call  ag_block_voice_call  \\\n",
       "0                     4.13                 0.00                 6.00   \n",
       "1                    -6.58                 1.67                 6.33   \n",
       "2                    -5.48                 5.00                 2.00   \n",
       "3                     0.00                 1.33                 0.67   \n",
       "4                     1.51                 3.00                 0.00   \n",
       "\n",
       "   avg_unans_voice_call  ...   equip_days  CR.C  CR.DE  is_rural  HS_refurb  \\\n",
       "0                  1.67  ...          398     0      1         1          0   \n",
       "1                 13.00  ...          521     0      1         1          0   \n",
       "2                 39.00  ...          391     0      1         1          0   \n",
       "3                  7.00  ...          486     0      1         1          0   \n",
       "4                  6.67  ...          393     0      1         1          0   \n",
       "\n",
       "   HS.web_enable  is_referral_made  income  credit_rating_up_down  Left  \n",
       "0              0                 1       2                      2     1  \n",
       "1              0                 1       2                      2     0  \n",
       "2              0                 1       2                      2     1  \n",
       "3              0                 1       1                      2     1  \n",
       "4              0                 1       1                      2     0  \n",
       "\n",
       "[5 rows x 31 columns]"
      ]
     },
     "execution_count": 53,
     "metadata": {},
     "output_type": "execute_result"
    }
   ],
   "source": [
    "balancedData.head()"
   ]
  },
  {
   "cell_type": "code",
   "execution_count": 54,
   "metadata": {
    "collapsed": true
   },
   "outputs": [],
   "source": [
    "#importing important packages for model validation\n",
    "\n",
    "from sklearn.model_selection import train_test_split\n",
    "from sklearn.model_selection import cross_val_score\n",
    "from sklearn.model_selection import cross_val_predict"
   ]
  },
  {
   "cell_type": "code",
   "execution_count": 55,
   "metadata": {},
   "outputs": [
    {
     "data": {
      "text/html": [
       "<div>\n",
       "<style>\n",
       "    .dataframe thead tr:only-child th {\n",
       "        text-align: right;\n",
       "    }\n",
       "\n",
       "    .dataframe thead th {\n",
       "        text-align: left;\n",
       "    }\n",
       "\n",
       "    .dataframe tbody tr th {\n",
       "        vertical-align: top;\n",
       "    }\n",
       "</style>\n",
       "<table border=\"1\" class=\"dataframe\">\n",
       "  <thead>\n",
       "    <tr style=\"text-align: right;\">\n",
       "      <th></th>\n",
       "      <th>gross_income</th>\n",
       "      <th>avg_monthly_minute_usage</th>\n",
       "      <th>repeating_charge</th>\n",
       "      <th>avg_assisted_calls</th>\n",
       "      <th>avg_roaming_calls</th>\n",
       "      <th>per_change_min_use</th>\n",
       "      <th>per_change_gross_profit</th>\n",
       "      <th>avg_drop_voice_call</th>\n",
       "      <th>ag_block_voice_call</th>\n",
       "      <th>avg_unans_voice_call</th>\n",
       "      <th>...</th>\n",
       "      <th>equip_days</th>\n",
       "      <th>CR.C</th>\n",
       "      <th>CR.DE</th>\n",
       "      <th>is_rural</th>\n",
       "      <th>HS_refurb</th>\n",
       "      <th>HS.web_enable</th>\n",
       "      <th>is_referral_made</th>\n",
       "      <th>income</th>\n",
       "      <th>credit_rating_up_down</th>\n",
       "      <th>Left</th>\n",
       "    </tr>\n",
       "  </thead>\n",
       "  <tbody>\n",
       "    <tr>\n",
       "      <th>0</th>\n",
       "      <td>31.11</td>\n",
       "      <td>199.50</td>\n",
       "      <td>19.99</td>\n",
       "      <td>0.25</td>\n",
       "      <td>0.00</td>\n",
       "      <td>45.50</td>\n",
       "      <td>4.13</td>\n",
       "      <td>0.00</td>\n",
       "      <td>6.00</td>\n",
       "      <td>1.67</td>\n",
       "      <td>...</td>\n",
       "      <td>398</td>\n",
       "      <td>0</td>\n",
       "      <td>1</td>\n",
       "      <td>1</td>\n",
       "      <td>0</td>\n",
       "      <td>0</td>\n",
       "      <td>1</td>\n",
       "      <td>2</td>\n",
       "      <td>2</td>\n",
       "      <td>1</td>\n",
       "    </tr>\n",
       "    <tr>\n",
       "      <th>1</th>\n",
       "      <td>36.06</td>\n",
       "      <td>166.00</td>\n",
       "      <td>29.99</td>\n",
       "      <td>0.74</td>\n",
       "      <td>0.00</td>\n",
       "      <td>-44.00</td>\n",
       "      <td>-6.58</td>\n",
       "      <td>1.67</td>\n",
       "      <td>6.33</td>\n",
       "      <td>13.00</td>\n",
       "      <td>...</td>\n",
       "      <td>521</td>\n",
       "      <td>0</td>\n",
       "      <td>1</td>\n",
       "      <td>1</td>\n",
       "      <td>0</td>\n",
       "      <td>0</td>\n",
       "      <td>1</td>\n",
       "      <td>2</td>\n",
       "      <td>2</td>\n",
       "      <td>0</td>\n",
       "    </tr>\n",
       "    <tr>\n",
       "      <th>2</th>\n",
       "      <td>57.87</td>\n",
       "      <td>1137.75</td>\n",
       "      <td>8.23</td>\n",
       "      <td>2.23</td>\n",
       "      <td>0.29</td>\n",
       "      <td>2.25</td>\n",
       "      <td>-5.48</td>\n",
       "      <td>5.00</td>\n",
       "      <td>2.00</td>\n",
       "      <td>39.00</td>\n",
       "      <td>...</td>\n",
       "      <td>391</td>\n",
       "      <td>0</td>\n",
       "      <td>1</td>\n",
       "      <td>1</td>\n",
       "      <td>0</td>\n",
       "      <td>0</td>\n",
       "      <td>1</td>\n",
       "      <td>2</td>\n",
       "      <td>2</td>\n",
       "      <td>1</td>\n",
       "    </tr>\n",
       "    <tr>\n",
       "      <th>3</th>\n",
       "      <td>10.00</td>\n",
       "      <td>311.00</td>\n",
       "      <td>10.00</td>\n",
       "      <td>0.00</td>\n",
       "      <td>0.00</td>\n",
       "      <td>29.00</td>\n",
       "      <td>0.00</td>\n",
       "      <td>1.33</td>\n",
       "      <td>0.67</td>\n",
       "      <td>7.00</td>\n",
       "      <td>...</td>\n",
       "      <td>486</td>\n",
       "      <td>0</td>\n",
       "      <td>1</td>\n",
       "      <td>1</td>\n",
       "      <td>0</td>\n",
       "      <td>0</td>\n",
       "      <td>1</td>\n",
       "      <td>1</td>\n",
       "      <td>2</td>\n",
       "      <td>1</td>\n",
       "    </tr>\n",
       "    <tr>\n",
       "      <th>4</th>\n",
       "      <td>32.61</td>\n",
       "      <td>206.00</td>\n",
       "      <td>39.99</td>\n",
       "      <td>0.99</td>\n",
       "      <td>1.63</td>\n",
       "      <td>139.00</td>\n",
       "      <td>1.51</td>\n",
       "      <td>3.00</td>\n",
       "      <td>0.00</td>\n",
       "      <td>6.67</td>\n",
       "      <td>...</td>\n",
       "      <td>393</td>\n",
       "      <td>0</td>\n",
       "      <td>1</td>\n",
       "      <td>1</td>\n",
       "      <td>0</td>\n",
       "      <td>0</td>\n",
       "      <td>1</td>\n",
       "      <td>1</td>\n",
       "      <td>2</td>\n",
       "      <td>0</td>\n",
       "    </tr>\n",
       "  </tbody>\n",
       "</table>\n",
       "<p>5 rows × 31 columns</p>\n",
       "</div>"
      ],
      "text/plain": [
       "   gross_income  avg_monthly_minute_usage  repeating_charge  \\\n",
       "0         31.11                    199.50             19.99   \n",
       "1         36.06                    166.00             29.99   \n",
       "2         57.87                   1137.75              8.23   \n",
       "3         10.00                    311.00             10.00   \n",
       "4         32.61                    206.00             39.99   \n",
       "\n",
       "   avg_assisted_calls  avg_roaming_calls  per_change_min_use  \\\n",
       "0                0.25               0.00               45.50   \n",
       "1                0.74               0.00              -44.00   \n",
       "2                2.23               0.29                2.25   \n",
       "3                0.00               0.00               29.00   \n",
       "4                0.99               1.63              139.00   \n",
       "\n",
       "   per_change_gross_profit  avg_drop_voice_call  ag_block_voice_call  \\\n",
       "0                     4.13                 0.00                 6.00   \n",
       "1                    -6.58                 1.67                 6.33   \n",
       "2                    -5.48                 5.00                 2.00   \n",
       "3                     0.00                 1.33                 0.67   \n",
       "4                     1.51                 3.00                 0.00   \n",
       "\n",
       "   avg_unans_voice_call  ...   equip_days  CR.C  CR.DE  is_rural  HS_refurb  \\\n",
       "0                  1.67  ...          398     0      1         1          0   \n",
       "1                 13.00  ...          521     0      1         1          0   \n",
       "2                 39.00  ...          391     0      1         1          0   \n",
       "3                  7.00  ...          486     0      1         1          0   \n",
       "4                  6.67  ...          393     0      1         1          0   \n",
       "\n",
       "   HS.web_enable  is_referral_made  income  credit_rating_up_down  Left  \n",
       "0              0                 1       2                      2     1  \n",
       "1              0                 1       2                      2     0  \n",
       "2              0                 1       2                      2     1  \n",
       "3              0                 1       1                      2     1  \n",
       "4              0                 1       1                      2     0  \n",
       "\n",
       "[5 rows x 31 columns]"
      ]
     },
     "execution_count": 55,
     "metadata": {},
     "output_type": "execute_result"
    }
   ],
   "source": [
    "balancedData.head()"
   ]
  },
  {
   "cell_type": "code",
   "execution_count": 56,
   "metadata": {
    "collapsed": true
   },
   "outputs": [],
   "source": [
    "#creating trainset and test set for cross validation, let's keep 25 percent data for test\n",
    "xtrain,ytrain,xtest,ytest=train_test_split(balancedData.iloc[:,0:29],balancedData['Left'],test_size=0.25,random_state=123)"
   ]
  },
  {
   "cell_type": "code",
   "execution_count": 57,
   "metadata": {
    "collapsed": true
   },
   "outputs": [],
   "source": [
    "#random forest importing\n",
    "from sklearn.ensemble import RandomForestClassifier"
   ]
  },
  {
   "cell_type": "code",
   "execution_count": 58,
   "metadata": {
    "collapsed": true
   },
   "outputs": [],
   "source": [
    "rf=RandomForestClassifier()"
   ]
  },
  {
   "cell_type": "code",
   "execution_count": 59,
   "metadata": {},
   "outputs": [
    {
     "name": "stdout",
     "output_type": "stream",
     "text": [
      "0.603876945638\n",
      "0.606306730961\n",
      "0.604830461296\n",
      "0.606544882902\n",
      "0.605878216349\n",
      "0.606878341014\n",
      "0.606544724021\n",
      "0.606878477198\n",
      "0.607402479561\n",
      "0.605687240849\n"
     ]
    }
   ],
   "source": [
    "#finding parameters for parameter tuning\n",
    "m=50\n",
    "for i in range (0,10):\n",
    "        rf=RandomForestClassifier(max_depth=8,n_estimators=m)\n",
    "        rf_cv_score=cross_val_score(estimator=rf,X=xtrain,y=xtest,cv=5)\n",
    "        print rf_cv_score.mean()\n",
    "        m=m+1"
   ]
  },
  {
   "cell_type": "code",
   "execution_count": 60,
   "metadata": {
    "collapsed": true
   },
   "outputs": [],
   "source": [
    "#creating random forest model\n",
    "rf=RandomForestClassifier(max_depth=8,n_estimators=55)"
   ]
  },
  {
   "cell_type": "code",
   "execution_count": 61,
   "metadata": {
    "collapsed": true
   },
   "outputs": [],
   "source": [
    "#importing library to check accuracy\n",
    "from sklearn import metrics"
   ]
  },
  {
   "cell_type": "code",
   "execution_count": 62,
   "metadata": {},
   "outputs": [
    {
     "data": {
      "text/plain": [
       "RandomForestClassifier(bootstrap=True, class_weight=None, criterion='gini',\n",
       "            max_depth=8, max_features='auto', max_leaf_nodes=None,\n",
       "            min_impurity_decrease=0.0, min_impurity_split=None,\n",
       "            min_samples_leaf=1, min_samples_split=2,\n",
       "            min_weight_fraction_leaf=0.0, n_estimators=55, n_jobs=1,\n",
       "            oob_score=False, random_state=None, verbose=0,\n",
       "            warm_start=False)"
      ]
     },
     "execution_count": 62,
     "metadata": {},
     "output_type": "execute_result"
    }
   ],
   "source": [
    "#fitting data into random forest data model\n",
    "rf.fit(balancedData.iloc[:,0:29],balancedData['Left'])"
   ]
  },
  {
   "cell_type": "code",
   "execution_count": 63,
   "metadata": {
    "collapsed": true
   },
   "outputs": [],
   "source": [
    "#storing predicted value in variable\n",
    "p=rf.predict(ytrain)"
   ]
  },
  {
   "cell_type": "code",
   "execution_count": 64,
   "metadata": {},
   "outputs": [
    {
     "data": {
      "text/plain": [
       "0.63641560668858077"
      ]
     },
     "execution_count": 64,
     "metadata": {},
     "output_type": "execute_result"
    }
   ],
   "source": [
    "#checking the accuracy\n",
    "metrics.accuracy_score(p,ytest)"
   ]
  },
  {
   "cell_type": "code",
   "execution_count": 65,
   "metadata": {},
   "outputs": [
    {
     "data": {
      "text/plain": [
       "0.27627959457207896"
      ]
     },
     "execution_count": 65,
     "metadata": {},
     "output_type": "execute_result"
    }
   ],
   "source": [
    "#checking cohen kappa score\n",
    "metrics.cohen_kappa_score(p,ytest)"
   ]
  },
  {
   "cell_type": "code",
   "execution_count": 66,
   "metadata": {
    "collapsed": true
   },
   "outputs": [],
   "source": [
    "#importing and building knn classifiers\n",
    "from sklearn import neighbors\n",
    "modelKnn=neighbors.KNeighborsClassifier()"
   ]
  },
  {
   "cell_type": "code",
   "execution_count": 67,
   "metadata": {},
   "outputs": [
    {
     "name": "stdout",
     "output_type": "stream",
     "text": [
      "0.583487417128\n",
      "0.583820920635\n",
      "0.58301099976\n",
      "0.583916136017\n",
      "0.582010625424\n",
      "0.584249662221\n",
      "0.584106317109\n",
      "0.583248992819\n",
      "0.581962949641\n",
      "0.584154129076\n"
     ]
    }
   ],
   "source": [
    "#finding parameters for parameter tuning\n",
    "m=170\n",
    "for i in range(0,10):\n",
    "    modelKnn=neighbors.KNeighborsClassifier(n_neighbors=m)\n",
    "    knn_cv_score=cross_val_score(estimator=modelKnn,X=xtrain,y=xtest,cv=5)\n",
    "    print knn_cv_score.mean()\n",
    "    m=m+5"
   ]
  },
  {
   "cell_type": "code",
   "execution_count": 68,
   "metadata": {
    "collapsed": true
   },
   "outputs": [],
   "source": [
    "#building knn model\n",
    "modelKnn=neighbors.KNeighborsClassifier(n_neighbors=180)"
   ]
  },
  {
   "cell_type": "code",
   "execution_count": 69,
   "metadata": {
    "collapsed": true
   },
   "outputs": [],
   "source": [
    "#importing library for logistic regression\n",
    "from sklearn import linear_model"
   ]
  },
  {
   "cell_type": "code",
   "execution_count": 70,
   "metadata": {
    "collapsed": true
   },
   "outputs": [],
   "source": [
    "#building logistic regression model\n",
    "modelLogit=linear_model.LogisticRegression(penalty='l1')"
   ]
  },
  {
   "cell_type": "code",
   "execution_count": 71,
   "metadata": {},
   "outputs": [
    {
     "data": {
      "text/plain": [
       "0.57643748415086637"
      ]
     },
     "execution_count": 71,
     "metadata": {},
     "output_type": "execute_result"
    }
   ],
   "source": [
    "#checking the accuracy for the model\n",
    "rf_cv_score=cross_val_score(estimator=modelLogit,X=xtrain,y=xtest,cv=5)\n",
    "rf_cv_score.mean()"
   ]
  },
  {
   "cell_type": "code",
   "execution_count": 72,
   "metadata": {
    "collapsed": true
   },
   "outputs": [],
   "source": [
    "#importing library for gradiant boosting\n",
    "from sklearn.ensemble import GradientBoostingClassifier"
   ]
  },
  {
   "cell_type": "code",
   "execution_count": 73,
   "metadata": {},
   "outputs": [
    {
     "name": "stdout",
     "output_type": "stream",
     "text": [
      "0.615357957347\n",
      "0.615167367703\n",
      "0.615882050499\n"
     ]
    }
   ],
   "source": [
    "#tuning parameter for gradiant boost\n",
    "m=4\n",
    "for i in range(0,3):\n",
    "    modelGradBoost=GradientBoostingClassifier(max_depth=5)\n",
    "    svm_cv_score=cross_val_score(estimator=modelGradBoost,X=xtrain,y=xtest,cv=5)\n",
    "    print svm_cv_score.mean()\n",
    "    m=m+1"
   ]
  },
  {
   "cell_type": "code",
   "execution_count": 74,
   "metadata": {
    "collapsed": true
   },
   "outputs": [],
   "source": [
    "#building gradiant boosting model\n",
    "modelGradBoost=GradientBoostingClassifier(max_depth=5)"
   ]
  },
  {
   "cell_type": "code",
   "execution_count": 75,
   "metadata": {},
   "outputs": [
    {
     "data": {
      "text/plain": [
       "array([ 0.62086211,  0.61538462,  0.61919505,  0.60662378,  0.61567787])"
      ]
     },
     "execution_count": 75,
     "metadata": {},
     "output_type": "execute_result"
    }
   ],
   "source": [
    "#checking accuracy\n",
    "cross_val_score(estimator=modelGradBoost,X=xtrain,y=xtest,cv=5)"
   ]
  },
  {
   "cell_type": "code",
   "execution_count": 76,
   "metadata": {
    "collapsed": true
   },
   "outputs": [],
   "source": [
    "#importing library for nural network\n",
    "from sklearn.neural_network import MLPClassifier\n",
    "modelAnn = MLPClassifier()"
   ]
  },
  {
   "cell_type": "code",
   "execution_count": 77,
   "metadata": {},
   "outputs": [
    {
     "data": {
      "text/plain": [
       "array([ 0.5525125 ,  0.52750655,  0.576804  ,  0.51798904,  0.54729569])"
      ]
     },
     "execution_count": 77,
     "metadata": {},
     "output_type": "execute_result"
    }
   ],
   "source": [
    "#checking accuracy \n",
    "cross_val_score(estimator=modelAnn,X=xtrain,y=xtest,cv=5)"
   ]
  },
  {
   "cell_type": "code",
   "execution_count": 78,
   "metadata": {
    "collapsed": true
   },
   "outputs": [],
   "source": [
    "#droping columns from test dataset like train\n",
    "\n",
    "test=test.drop('children',axis=1)\n",
    "test=test.drop('CR.A',axis=1)\n",
    "test=test.drop('CR.AA',axis=1)\n",
    "test=test.drop('CR.B',axis=1)\n",
    "test=test.drop('is_subUrban',axis=1)\n",
    "test=test.drop('is_town',axis=1)\n",
    "test=test.drop('emp_level.C',axis=1)\n",
    "test=test.drop('is_student',axis=1)\n",
    "test=test.drop('is_housemaker',axis=1)\n",
    "test=test.drop('is_retired',axis=1)\n",
    "test=test.drop('is_selfEmployed',axis=1)\n",
    "test=test.drop('is_house_rented',axis=1)\n",
    "test=test.drop('is_married',axis=1)\n",
    "test=test.drop('is_online_purchaser',axis=1)\n",
    "test=test.drop('mail_active',axis=1)\n",
    "test=test.drop('frequent_traveller',axis=1)\n",
    "test=test.drop('access_to_pc',axis=1)\n",
    "test=test.drop('access_twowheeler',axis=1)\n",
    "test=test.drop('age',axis=1)"
   ]
  },
  {
   "cell_type": "code",
   "execution_count": 107,
   "metadata": {},
   "outputs": [
    {
     "data": {
      "text/html": [
       "<div>\n",
       "<style>\n",
       "    .dataframe thead tr:only-child th {\n",
       "        text-align: right;\n",
       "    }\n",
       "\n",
       "    .dataframe thead th {\n",
       "        text-align: left;\n",
       "    }\n",
       "\n",
       "    .dataframe tbody tr th {\n",
       "        vertical-align: top;\n",
       "    }\n",
       "</style>\n",
       "<table border=\"1\" class=\"dataframe\">\n",
       "  <thead>\n",
       "    <tr style=\"text-align: right;\">\n",
       "      <th></th>\n",
       "      <th>Total</th>\n",
       "      <th>Percent</th>\n",
       "    </tr>\n",
       "  </thead>\n",
       "  <tbody>\n",
       "    <tr>\n",
       "      <th>handset</th>\n",
       "      <td>1</td>\n",
       "      <td>0.000048</td>\n",
       "    </tr>\n",
       "  </tbody>\n",
       "</table>\n",
       "</div>"
      ],
      "text/plain": [
       "         Total   Percent\n",
       "handset      1  0.000048"
      ]
     },
     "execution_count": 107,
     "metadata": {},
     "output_type": "execute_result"
    }
   ],
   "source": [
    "#missing data in test set\n",
    "total=test.isnull().sum().sort_values(ascending=False)\n",
    "percent = (test.isnull().sum()/test.isnull().count()).sort_values(ascending=False)\n",
    "missing_data = pd.concat([total, percent], axis=1, keys=['Total', 'Percent'])\n",
    "missing_data[missing_data.Total>0]"
   ]
  },
  {
   "cell_type": "code",
   "execution_count": 108,
   "metadata": {
    "collapsed": true
   },
   "outputs": [],
   "source": [
    "test=test.drop('handset',axis=1)"
   ]
  },
  {
   "cell_type": "code",
   "execution_count": 80,
   "metadata": {
    "collapsed": true
   },
   "outputs": [],
   "source": [
    "#converting into dummy variables\n",
    "\n",
    "test['CR.DE']=pd.get_dummies(test['CR.DE'])\n",
    "test.is_rural=pd.get_dummies(test.is_rural)\n",
    "test.is_referral_made=pd.get_dummies(test.is_referral_made)\n",
    "test['HS.web_enable']=pd.get_dummies(test['HS.web_enable'])"
   ]
  },
  {
   "cell_type": "code",
   "execution_count": 81,
   "metadata": {
    "collapsed": true
   },
   "outputs": [],
   "source": [
    "#putting median values for missing data\n",
    "\n",
    "test.per_change_min_use.fillna(test.per_change_min_use.median(), inplace=True)"
   ]
  },
  {
   "cell_type": "code",
   "execution_count": 82,
   "metadata": {
    "collapsed": true
   },
   "outputs": [],
   "source": [
    "#putting median values for missing data\n",
    "\n",
    "test.per_change_gross_profit.fillna(test.per_change_gross_profit.median(), inplace=True)\n",
    "test.gross_income.fillna(test.gross_income.median(), inplace=True)\n",
    "test.avg_monthly_minute_usage.fillna(test.avg_monthly_minute_usage.median(), inplace=True)\n",
    "test.repeating_charge.fillna(test.repeating_charge.median(), inplace=True)\n",
    "test.avg_assisted_calls.fillna(test.avg_assisted_calls.median(), inplace=True)\n",
    "test.avg_roaming_calls.fillna(test.avg_roaming_calls.median(), inplace=True)\n",
    "test.equip_days.fillna(test.equip_days.median(), inplace=True)\n",
    "test.model.fillna(test.model.median(), inplace=True)"
   ]
  },
  {
   "cell_type": "code",
   "execution_count": 83,
   "metadata": {
    "collapsed": true
   },
   "outputs": [],
   "source": [
    "#test.handset.fillna(test.handset.median(), inplace=True)"
   ]
  },
  {
   "cell_type": "code",
   "execution_count": 84,
   "metadata": {
    "collapsed": true
   },
   "outputs": [],
   "source": [
    "#creating categorical variables by combining two or more categories\n",
    "\n",
    "\n",
    "for i in range(0,test.active_sub.count()):\n",
    "    if(test.credit_rating_up_down.values[i]==8 or test.credit_rating_up_down.values[i]==6):\n",
    "        test.credit_rating_up_down.values[i]=1\n",
    "    else:\n",
    "        test.credit_rating_up_down.values[i]=2\n",
    "\n",
    "for i in range(0,test.active_sub.count()):\n",
    "    if(test.income.values[i]==0 or test.income.values[i]==7):\n",
    "        test.income.values[i]=1\n",
    "    else:\n",
    "        test.income.values[i]=2\n",
    "\n",
    "for i in range(0,test.active_sub.count()):\n",
    "    if(test.is_referral_made.values[i]<=2):\n",
    "        test.is_referral_made.values[i]=1\n",
    "    elif(test.is_referral_made.values[i]>2):\n",
    "        test.is_referral_made.values[i]=2\n",
    "\n",
    "\n",
    "for i in range(0,test.active_sub.count()):\n",
    "    if(test.model.values[i]==7 or test.model.values[i]>=9):\n",
    "        test.model.values[i]=1\n",
    "    elif(test.model.values[i]==1 or test.model.values[i]==8):\n",
    "        test.model.values[i]=2\n",
    "    elif(test.model.values[i]>=2 and test.model.values[i]<=6):\n",
    "        test.model.values[i]=3\n",
    "\n",
    "for i in range(0,test.active_sub.count()):\n",
    "    if(test.unique_sub.values[i]<=8):\n",
    "        test.unique_sub.values[i]=1\n",
    "    elif(test.unique_sub.values[i]>8 and test.unique_sub.values[i]<=12):\n",
    "        test.unique_sub.values[i]=2\n",
    "    elif(test.unique_sub.values[i]>12):\n",
    "        test.unique_sub.values[i]=3\n",
    "\n",
    "\n",
    "for i in range(0,test.active_sub.count()):\n",
    "    if(test.active_sub.values[i]<=7):\n",
    "        test.active_sub.values[i]=1\n",
    "    elif(test.active_sub.values[i]>7):\n",
    "        test.active_sub.values[i]=2\n",
    "\n",
    "\n",
    "for i in range(0,test.active_sub.count()):\n",
    "    if(test.handset.values[i]<=16):\n",
    "        test.handset.values[i]=1\n",
    "    elif(test.handset.values[i]>16):\n",
    "        test.handset.values[i]=2\n"
   ]
  },
  {
   "cell_type": "code",
   "execution_count": 85,
   "metadata": {},
   "outputs": [
    {
     "data": {
      "text/html": [
       "<div>\n",
       "<style>\n",
       "    .dataframe thead tr:only-child th {\n",
       "        text-align: right;\n",
       "    }\n",
       "\n",
       "    .dataframe thead th {\n",
       "        text-align: left;\n",
       "    }\n",
       "\n",
       "    .dataframe tbody tr th {\n",
       "        vertical-align: top;\n",
       "    }\n",
       "</style>\n",
       "<table border=\"1\" class=\"dataframe\">\n",
       "  <thead>\n",
       "    <tr style=\"text-align: right;\">\n",
       "      <th></th>\n",
       "      <th>gross_income</th>\n",
       "      <th>avg_monthly_minute_usage</th>\n",
       "      <th>repeating_charge</th>\n",
       "      <th>avg_assisted_calls</th>\n",
       "      <th>avg_roaming_calls</th>\n",
       "      <th>per_change_min_use</th>\n",
       "      <th>per_change_gross_profit</th>\n",
       "      <th>avg_drop_voice_call</th>\n",
       "      <th>ag_block_voice_call</th>\n",
       "      <th>avg_unans_voice_call</th>\n",
       "      <th>...</th>\n",
       "      <th>equip_days</th>\n",
       "      <th>CR.C</th>\n",
       "      <th>CR.DE</th>\n",
       "      <th>is_rural</th>\n",
       "      <th>HS_refurb</th>\n",
       "      <th>HS.web_enable</th>\n",
       "      <th>credit_card</th>\n",
       "      <th>is_referral_made</th>\n",
       "      <th>income</th>\n",
       "      <th>credit_rating_up_down</th>\n",
       "    </tr>\n",
       "  </thead>\n",
       "  <tbody>\n",
       "    <tr>\n",
       "      <th>0</th>\n",
       "      <td>116.08</td>\n",
       "      <td>1000.50</td>\n",
       "      <td>34.98</td>\n",
       "      <td>1.98</td>\n",
       "      <td>5.2</td>\n",
       "      <td>-149.50</td>\n",
       "      <td>-40.88</td>\n",
       "      <td>19.67</td>\n",
       "      <td>2.00</td>\n",
       "      <td>25.67</td>\n",
       "      <td>...</td>\n",
       "      <td>5.0</td>\n",
       "      <td>0</td>\n",
       "      <td>0</td>\n",
       "      <td>1</td>\n",
       "      <td>0</td>\n",
       "      <td>0</td>\n",
       "      <td>1</td>\n",
       "      <td>1</td>\n",
       "      <td>2</td>\n",
       "      <td>2</td>\n",
       "    </tr>\n",
       "    <tr>\n",
       "      <th>1</th>\n",
       "      <td>65.99</td>\n",
       "      <td>904.75</td>\n",
       "      <td>54.99</td>\n",
       "      <td>0.25</td>\n",
       "      <td>0.0</td>\n",
       "      <td>189.25</td>\n",
       "      <td>-21.00</td>\n",
       "      <td>6.00</td>\n",
       "      <td>5.00</td>\n",
       "      <td>29.33</td>\n",
       "      <td>...</td>\n",
       "      <td>183.0</td>\n",
       "      <td>0</td>\n",
       "      <td>1</td>\n",
       "      <td>1</td>\n",
       "      <td>0</td>\n",
       "      <td>0</td>\n",
       "      <td>1</td>\n",
       "      <td>1</td>\n",
       "      <td>2</td>\n",
       "      <td>2</td>\n",
       "    </tr>\n",
       "    <tr>\n",
       "      <th>2</th>\n",
       "      <td>76.65</td>\n",
       "      <td>361.75</td>\n",
       "      <td>38.12</td>\n",
       "      <td>0.00</td>\n",
       "      <td>0.0</td>\n",
       "      <td>-361.75</td>\n",
       "      <td>73.35</td>\n",
       "      <td>17.67</td>\n",
       "      <td>11.33</td>\n",
       "      <td>71.00</td>\n",
       "      <td>...</td>\n",
       "      <td>189.0</td>\n",
       "      <td>0</td>\n",
       "      <td>1</td>\n",
       "      <td>0</td>\n",
       "      <td>1</td>\n",
       "      <td>0</td>\n",
       "      <td>1</td>\n",
       "      <td>1</td>\n",
       "      <td>2</td>\n",
       "      <td>2</td>\n",
       "    </tr>\n",
       "    <tr>\n",
       "      <th>3</th>\n",
       "      <td>73.81</td>\n",
       "      <td>498.50</td>\n",
       "      <td>33.16</td>\n",
       "      <td>0.00</td>\n",
       "      <td>0.0</td>\n",
       "      <td>-430.50</td>\n",
       "      <td>76.19</td>\n",
       "      <td>21.33</td>\n",
       "      <td>35.33</td>\n",
       "      <td>43.33</td>\n",
       "      <td>...</td>\n",
       "      <td>182.0</td>\n",
       "      <td>1</td>\n",
       "      <td>1</td>\n",
       "      <td>1</td>\n",
       "      <td>1</td>\n",
       "      <td>0</td>\n",
       "      <td>0</td>\n",
       "      <td>1</td>\n",
       "      <td>1</td>\n",
       "      <td>2</td>\n",
       "    </tr>\n",
       "    <tr>\n",
       "      <th>4</th>\n",
       "      <td>25.65</td>\n",
       "      <td>129.00</td>\n",
       "      <td>9.74</td>\n",
       "      <td>0.00</td>\n",
       "      <td>0.0</td>\n",
       "      <td>-90.00</td>\n",
       "      <td>-15.65</td>\n",
       "      <td>0.67</td>\n",
       "      <td>6.00</td>\n",
       "      <td>11.33</td>\n",
       "      <td>...</td>\n",
       "      <td>308.0</td>\n",
       "      <td>0</td>\n",
       "      <td>1</td>\n",
       "      <td>1</td>\n",
       "      <td>1</td>\n",
       "      <td>0</td>\n",
       "      <td>1</td>\n",
       "      <td>1</td>\n",
       "      <td>2</td>\n",
       "      <td>2</td>\n",
       "    </tr>\n",
       "  </tbody>\n",
       "</table>\n",
       "<p>5 rows × 31 columns</p>\n",
       "</div>"
      ],
      "text/plain": [
       "   gross_income  avg_monthly_minute_usage  repeating_charge  \\\n",
       "0        116.08                   1000.50             34.98   \n",
       "1         65.99                    904.75             54.99   \n",
       "2         76.65                    361.75             38.12   \n",
       "3         73.81                    498.50             33.16   \n",
       "4         25.65                    129.00              9.74   \n",
       "\n",
       "   avg_assisted_calls  avg_roaming_calls  per_change_min_use  \\\n",
       "0                1.98                5.2             -149.50   \n",
       "1                0.25                0.0              189.25   \n",
       "2                0.00                0.0             -361.75   \n",
       "3                0.00                0.0             -430.50   \n",
       "4                0.00                0.0              -90.00   \n",
       "\n",
       "   per_change_gross_profit  avg_drop_voice_call  ag_block_voice_call  \\\n",
       "0                   -40.88                19.67                 2.00   \n",
       "1                   -21.00                 6.00                 5.00   \n",
       "2                    73.35                17.67                11.33   \n",
       "3                    76.19                21.33                35.33   \n",
       "4                   -15.65                 0.67                 6.00   \n",
       "\n",
       "   avg_unans_voice_call          ...            equip_days  CR.C  CR.DE  \\\n",
       "0                 25.67          ...                   5.0     0      0   \n",
       "1                 29.33          ...                 183.0     0      1   \n",
       "2                 71.00          ...                 189.0     0      1   \n",
       "3                 43.33          ...                 182.0     1      1   \n",
       "4                 11.33          ...                 308.0     0      1   \n",
       "\n",
       "   is_rural  HS_refurb  HS.web_enable  credit_card  is_referral_made  income  \\\n",
       "0         1          0              0            1                 1       2   \n",
       "1         1          0              0            1                 1       2   \n",
       "2         0          1              0            1                 1       2   \n",
       "3         1          1              0            0                 1       1   \n",
       "4         1          1              0            1                 1       2   \n",
       "\n",
       "   credit_rating_up_down  \n",
       "0                      2  \n",
       "1                      2  \n",
       "2                      2  \n",
       "3                      2  \n",
       "4                      2  \n",
       "\n",
       "[5 rows x 31 columns]"
      ]
     },
     "execution_count": 85,
     "metadata": {},
     "output_type": "execute_result"
    }
   ],
   "source": [
    "test.head()"
   ]
  },
  {
   "cell_type": "code",
   "execution_count": 86,
   "metadata": {},
   "outputs": [
    {
     "data": {
      "text/html": [
       "<div>\n",
       "<style>\n",
       "    .dataframe thead tr:only-child th {\n",
       "        text-align: right;\n",
       "    }\n",
       "\n",
       "    .dataframe thead th {\n",
       "        text-align: left;\n",
       "    }\n",
       "\n",
       "    .dataframe tbody tr th {\n",
       "        vertical-align: top;\n",
       "    }\n",
       "</style>\n",
       "<table border=\"1\" class=\"dataframe\">\n",
       "  <thead>\n",
       "    <tr style=\"text-align: right;\">\n",
       "      <th></th>\n",
       "      <th>gross_income</th>\n",
       "      <th>avg_monthly_minute_usage</th>\n",
       "      <th>repeating_charge</th>\n",
       "      <th>avg_assisted_calls</th>\n",
       "      <th>avg_roaming_calls</th>\n",
       "      <th>per_change_min_use</th>\n",
       "      <th>per_change_gross_profit</th>\n",
       "      <th>avg_drop_voice_call</th>\n",
       "      <th>ag_block_voice_call</th>\n",
       "      <th>avg_unans_voice_call</th>\n",
       "      <th>...</th>\n",
       "      <th>equip_days</th>\n",
       "      <th>CR.C</th>\n",
       "      <th>CR.DE</th>\n",
       "      <th>is_rural</th>\n",
       "      <th>HS_refurb</th>\n",
       "      <th>HS.web_enable</th>\n",
       "      <th>is_referral_made</th>\n",
       "      <th>income</th>\n",
       "      <th>credit_rating_up_down</th>\n",
       "      <th>Left</th>\n",
       "    </tr>\n",
       "  </thead>\n",
       "  <tbody>\n",
       "    <tr>\n",
       "      <th>27983</th>\n",
       "      <td>100.56</td>\n",
       "      <td>1235.75</td>\n",
       "      <td>69.99</td>\n",
       "      <td>1.49</td>\n",
       "      <td>1.71</td>\n",
       "      <td>685.25</td>\n",
       "      <td>-20.17</td>\n",
       "      <td>19.67</td>\n",
       "      <td>4.00</td>\n",
       "      <td>87.00</td>\n",
       "      <td>...</td>\n",
       "      <td>27</td>\n",
       "      <td>1</td>\n",
       "      <td>1</td>\n",
       "      <td>1</td>\n",
       "      <td>0</td>\n",
       "      <td>0</td>\n",
       "      <td>1</td>\n",
       "      <td>2</td>\n",
       "      <td>2</td>\n",
       "      <td>0</td>\n",
       "    </tr>\n",
       "    <tr>\n",
       "      <th>27984</th>\n",
       "      <td>55.08</td>\n",
       "      <td>877.50</td>\n",
       "      <td>69.99</td>\n",
       "      <td>0.50</td>\n",
       "      <td>0.00</td>\n",
       "      <td>-196.50</td>\n",
       "      <td>-5.09</td>\n",
       "      <td>3.00</td>\n",
       "      <td>14.33</td>\n",
       "      <td>45.67</td>\n",
       "      <td>...</td>\n",
       "      <td>537</td>\n",
       "      <td>0</td>\n",
       "      <td>1</td>\n",
       "      <td>1</td>\n",
       "      <td>0</td>\n",
       "      <td>0</td>\n",
       "      <td>1</td>\n",
       "      <td>1</td>\n",
       "      <td>2</td>\n",
       "      <td>0</td>\n",
       "    </tr>\n",
       "    <tr>\n",
       "      <th>27985</th>\n",
       "      <td>50.25</td>\n",
       "      <td>452.00</td>\n",
       "      <td>50.00</td>\n",
       "      <td>0.25</td>\n",
       "      <td>0.00</td>\n",
       "      <td>-38.00</td>\n",
       "      <td>-0.25</td>\n",
       "      <td>7.67</td>\n",
       "      <td>10.67</td>\n",
       "      <td>12.67</td>\n",
       "      <td>...</td>\n",
       "      <td>522</td>\n",
       "      <td>0</td>\n",
       "      <td>1</td>\n",
       "      <td>1</td>\n",
       "      <td>1</td>\n",
       "      <td>1</td>\n",
       "      <td>1</td>\n",
       "      <td>2</td>\n",
       "      <td>2</td>\n",
       "      <td>0</td>\n",
       "    </tr>\n",
       "    <tr>\n",
       "      <th>27986</th>\n",
       "      <td>42.40</td>\n",
       "      <td>270.75</td>\n",
       "      <td>29.99</td>\n",
       "      <td>0.00</td>\n",
       "      <td>0.00</td>\n",
       "      <td>101.25</td>\n",
       "      <td>30.57</td>\n",
       "      <td>0.00</td>\n",
       "      <td>6.00</td>\n",
       "      <td>10.33</td>\n",
       "      <td>...</td>\n",
       "      <td>358</td>\n",
       "      <td>0</td>\n",
       "      <td>1</td>\n",
       "      <td>1</td>\n",
       "      <td>0</td>\n",
       "      <td>0</td>\n",
       "      <td>1</td>\n",
       "      <td>1</td>\n",
       "      <td>2</td>\n",
       "      <td>0</td>\n",
       "    </tr>\n",
       "    <tr>\n",
       "      <th>27987</th>\n",
       "      <td>65.69</td>\n",
       "      <td>1429.00</td>\n",
       "      <td>59.99</td>\n",
       "      <td>0.00</td>\n",
       "      <td>0.00</td>\n",
       "      <td>329.00</td>\n",
       "      <td>47.10</td>\n",
       "      <td>8.33</td>\n",
       "      <td>6.33</td>\n",
       "      <td>23.33</td>\n",
       "      <td>...</td>\n",
       "      <td>139</td>\n",
       "      <td>0</td>\n",
       "      <td>0</td>\n",
       "      <td>1</td>\n",
       "      <td>0</td>\n",
       "      <td>0</td>\n",
       "      <td>1</td>\n",
       "      <td>2</td>\n",
       "      <td>2</td>\n",
       "      <td>0</td>\n",
       "    </tr>\n",
       "  </tbody>\n",
       "</table>\n",
       "<p>5 rows × 31 columns</p>\n",
       "</div>"
      ],
      "text/plain": [
       "       gross_income  avg_monthly_minute_usage  repeating_charge  \\\n",
       "27983        100.56                   1235.75             69.99   \n",
       "27984         55.08                    877.50             69.99   \n",
       "27985         50.25                    452.00             50.00   \n",
       "27986         42.40                    270.75             29.99   \n",
       "27987         65.69                   1429.00             59.99   \n",
       "\n",
       "       avg_assisted_calls  avg_roaming_calls  per_change_min_use  \\\n",
       "27983                1.49               1.71              685.25   \n",
       "27984                0.50               0.00             -196.50   \n",
       "27985                0.25               0.00              -38.00   \n",
       "27986                0.00               0.00              101.25   \n",
       "27987                0.00               0.00              329.00   \n",
       "\n",
       "       per_change_gross_profit  avg_drop_voice_call  ag_block_voice_call  \\\n",
       "27983                   -20.17                19.67                 4.00   \n",
       "27984                    -5.09                 3.00                14.33   \n",
       "27985                    -0.25                 7.67                10.67   \n",
       "27986                    30.57                 0.00                 6.00   \n",
       "27987                    47.10                 8.33                 6.33   \n",
       "\n",
       "       avg_unans_voice_call  ...   equip_days  CR.C  CR.DE  is_rural  \\\n",
       "27983                 87.00  ...           27     1      1         1   \n",
       "27984                 45.67  ...          537     0      1         1   \n",
       "27985                 12.67  ...          522     0      1         1   \n",
       "27986                 10.33  ...          358     0      1         1   \n",
       "27987                 23.33  ...          139     0      0         1   \n",
       "\n",
       "       HS_refurb  HS.web_enable  is_referral_made  income  \\\n",
       "27983          0              0                 1       2   \n",
       "27984          0              0                 1       1   \n",
       "27985          1              1                 1       2   \n",
       "27986          0              0                 1       1   \n",
       "27987          0              0                 1       2   \n",
       "\n",
       "       credit_rating_up_down  Left  \n",
       "27983                      2     0  \n",
       "27984                      2     0  \n",
       "27985                      2     0  \n",
       "27986                      2     0  \n",
       "27987                      2     0  \n",
       "\n",
       "[5 rows x 31 columns]"
      ]
     },
     "execution_count": 86,
     "metadata": {},
     "output_type": "execute_result"
    }
   ],
   "source": [
    "balancedData.tail()"
   ]
  },
  {
   "cell_type": "code",
   "execution_count": 87,
   "metadata": {
    "collapsed": true
   },
   "outputs": [],
   "source": [
    "test=test.drop('credit_card',axis=1)"
   ]
  },
  {
   "cell_type": "code",
   "execution_count": 88,
   "metadata": {},
   "outputs": [
    {
     "data": {
      "text/plain": [
       "KNeighborsClassifier(algorithm='auto', leaf_size=30, metric='minkowski',\n",
       "           metric_params=None, n_jobs=1, n_neighbors=180, p=2,\n",
       "           weights='uniform')"
      ]
     },
     "execution_count": 88,
     "metadata": {},
     "output_type": "execute_result"
    }
   ],
   "source": [
    "#fitting knn model\n",
    "modelKnn.fit(balancedData.iloc[:,0:29],balancedData['Left'])"
   ]
  },
  {
   "cell_type": "code",
   "execution_count": 89,
   "metadata": {},
   "outputs": [
    {
     "data": {
      "text/plain": [
       "GradientBoostingClassifier(criterion='friedman_mse', init=None,\n",
       "              learning_rate=0.1, loss='deviance', max_depth=5,\n",
       "              max_features=None, max_leaf_nodes=None,\n",
       "              min_impurity_decrease=0.0, min_impurity_split=None,\n",
       "              min_samples_leaf=1, min_samples_split=2,\n",
       "              min_weight_fraction_leaf=0.0, n_estimators=100,\n",
       "              presort='auto', random_state=None, subsample=1.0, verbose=0,\n",
       "              warm_start=False)"
      ]
     },
     "execution_count": 89,
     "metadata": {},
     "output_type": "execute_result"
    }
   ],
   "source": [
    "#fitting gradiant boosting model\n",
    "modelGradBoost.fit(balancedData.iloc[:,0:29],balancedData['Left'])"
   ]
  },
  {
   "cell_type": "code",
   "execution_count": 90,
   "metadata": {},
   "outputs": [
    {
     "data": {
      "text/plain": [
       "LogisticRegression(C=1.0, class_weight=None, dual=False, fit_intercept=True,\n",
       "          intercept_scaling=1, max_iter=100, multi_class='ovr', n_jobs=1,\n",
       "          penalty='l1', random_state=None, solver='liblinear', tol=0.0001,\n",
       "          verbose=0, warm_start=False)"
      ]
     },
     "execution_count": 90,
     "metadata": {},
     "output_type": "execute_result"
    }
   ],
   "source": [
    "#fitting logistic model\n",
    "modelLogit.fit(balancedData.iloc[:,0:29],balancedData['Left'])"
   ]
  },
  {
   "cell_type": "code",
   "execution_count": 91,
   "metadata": {},
   "outputs": [
    {
     "data": {
      "text/plain": [
       "MLPClassifier(activation='relu', alpha=0.0001, batch_size='auto', beta_1=0.9,\n",
       "       beta_2=0.999, early_stopping=False, epsilon=1e-08,\n",
       "       hidden_layer_sizes=(100,), learning_rate='constant',\n",
       "       learning_rate_init=0.001, max_iter=200, momentum=0.9,\n",
       "       nesterovs_momentum=True, power_t=0.5, random_state=None,\n",
       "       shuffle=True, solver='adam', tol=0.0001, validation_fraction=0.1,\n",
       "       verbose=False, warm_start=False)"
      ]
     },
     "execution_count": 91,
     "metadata": {},
     "output_type": "execute_result"
    }
   ],
   "source": [
    "#fitting nural net model\n",
    "modelAnn.fit(balancedData.iloc[:,0:29],balancedData['Left'])"
   ]
  },
  {
   "cell_type": "code",
   "execution_count": 92,
   "metadata": {
    "collapsed": true
   },
   "outputs": [],
   "source": [
    "#importing extra tree classifier\n",
    "from sklearn.ensemble import ExtraTreesClassifier"
   ]
  },
  {
   "cell_type": "code",
   "execution_count": 93,
   "metadata": {
    "collapsed": true
   },
   "outputs": [],
   "source": [
    "#building extra tree cassifier\n",
    "modelExtra=ExtraTreesClassifier()"
   ]
  },
  {
   "cell_type": "code",
   "execution_count": 94,
   "metadata": {},
   "outputs": [
    {
     "name": "stdout",
     "output_type": "stream",
     "text": [
      "0.592444880763\n",
      "0.589060921559\n",
      "0.594349460765\n",
      "0.589633802663\n",
      "0.592444563\n",
      "0.591920447151\n"
     ]
    }
   ],
   "source": [
    "#finding paremeters for parameter tuning\n",
    "m=8\n",
    "for i in range(0,6):\n",
    "    modelExtra=ExtraTreesClassifier(min_samples_split=10,min_samples_leaf=m)\n",
    "    knn_cv_score=cross_val_score(estimator=modelExtra,X=xtrain,y=xtest,cv=5)\n",
    "    print knn_cv_score.mean()\n",
    "    m=m+1"
   ]
  },
  {
   "cell_type": "code",
   "execution_count": 95,
   "metadata": {
    "collapsed": true
   },
   "outputs": [],
   "source": [
    "#building extratree model\n",
    "modelExtra=ExtraTreesClassifier(min_samples_split=10,min_samples_leaf=10)"
   ]
  },
  {
   "cell_type": "code",
   "execution_count": 96,
   "metadata": {},
   "outputs": [
    {
     "data": {
      "text/plain": [
       "ExtraTreesClassifier(bootstrap=False, class_weight=None, criterion='gini',\n",
       "           max_depth=None, max_features='auto', max_leaf_nodes=None,\n",
       "           min_impurity_decrease=0.0, min_impurity_split=None,\n",
       "           min_samples_leaf=10, min_samples_split=10,\n",
       "           min_weight_fraction_leaf=0.0, n_estimators=10, n_jobs=1,\n",
       "           oob_score=False, random_state=None, verbose=0, warm_start=False)"
      ]
     },
     "execution_count": 96,
     "metadata": {},
     "output_type": "execute_result"
    }
   ],
   "source": [
    "#fitting extra tree model\n",
    "modelExtra.fit(balancedData.iloc[:,0:29],balancedData['Left'])"
   ]
  },
  {
   "cell_type": "code",
   "execution_count": 97,
   "metadata": {
    "scrolled": true
   },
   "outputs": [
    {
     "name": "stderr",
     "output_type": "stream",
     "text": [
      "C:\\Users\\kallol\\Anaconda2\\lib\\site-packages\\sklearn\\cross_validation.py:41: DeprecationWarning: This module was deprecated in version 0.18 in favor of the model_selection module into which all the refactored classes and functions are moved. Also note that the interface of the new CV iterators are different from that of this module. This module will be removed in 0.20.\n",
      "  \"This module will be removed in 0.20.\", DeprecationWarning)\n"
     ]
    }
   ],
   "source": [
    "#creating stacking ensembles\n",
    "from brew.base import Ensemble, EnsembleClassifier\n",
    "from brew.stacking.stacker import EnsembleStack, EnsembleStackClassifier\n",
    "from brew.combination.combiner import Combiner"
   ]
  },
  {
   "cell_type": "code",
   "execution_count": 98,
   "metadata": {
    "collapsed": true
   },
   "outputs": [],
   "source": [
    "#selecting models\n",
    "clf1=rf\n",
    "clf2=modelGradBoost\n",
    "clf3=modelExtra"
   ]
  },
  {
   "cell_type": "code",
   "execution_count": 99,
   "metadata": {
    "collapsed": true
   },
   "outputs": [],
   "source": [
    "ensemble = Ensemble([clf1, clf2, clf3])\n",
    "eclf = EnsembleClassifier(ensemble=ensemble, combiner=Combiner('mean'))"
   ]
  },
  {
   "cell_type": "code",
   "execution_count": 100,
   "metadata": {
    "collapsed": true
   },
   "outputs": [],
   "source": [
    "import sklearn"
   ]
  },
  {
   "cell_type": "code",
   "execution_count": 101,
   "metadata": {
    "collapsed": true
   },
   "outputs": [],
   "source": [
    "#creating and adding layers\n",
    "layer_1 = Ensemble([clf1, clf2, clf3])\n",
    "layer_2 = Ensemble([sklearn.clone(clf2)])\n",
    "\n",
    "stack = EnsembleStack(cv=3)\n",
    "\n",
    "stack.add_layer(layer_1)\n",
    "stack.add_layer(layer_2)\n",
    "\n",
    "\n",
    "sclf = EnsembleStackClassifier(stack)"
   ]
  },
  {
   "cell_type": "code",
   "execution_count": 102,
   "metadata": {},
   "outputs": [
    {
     "data": {
      "text/plain": [
       "<brew.stacking.stacker.EnsembleStackClassifier at 0x22e43278>"
      ]
     },
     "execution_count": 102,
     "metadata": {},
     "output_type": "execute_result"
    }
   ],
   "source": [
    "#fitting stacked model\n",
    "sclf.fit(np.array(balancedData.iloc[:,0:29]),np.array(balancedData['Left']))"
   ]
  },
  {
   "cell_type": "code",
   "execution_count": 103,
   "metadata": {
    "collapsed": true
   },
   "outputs": [],
   "source": [
    "#adding adaboost library\n",
    "from sklearn.ensemble import AdaBoostClassifier"
   ]
  },
  {
   "cell_type": "code",
   "execution_count": 104,
   "metadata": {
    "collapsed": true
   },
   "outputs": [],
   "source": [
    "#building model\n",
    "modelAda=AdaBoostClassifier()"
   ]
  },
  {
   "cell_type": "code",
   "execution_count": 105,
   "metadata": {},
   "outputs": [
    {
     "name": "stdout",
     "output_type": "stream",
     "text": [
      "0.608593193871\n",
      "0.608926651983\n",
      "0.611356528095\n",
      "0.607259020962\n",
      "0.605829269515\n",
      "0.602066082993\n"
     ]
    }
   ],
   "source": [
    "#parameter tuning\n",
    "m=1.2\n",
    "for i in range(0,6):\n",
    "    modelAda=AdaBoostClassifier(learning_rate=m)\n",
    "    knn_cv_score=cross_val_score(estimator=modelAda,X=xtrain,y=xtest,cv=5)\n",
    "    print knn_cv_score.mean()\n",
    "    m=m+0.1"
   ]
  },
  {
   "cell_type": "code",
   "execution_count": 109,
   "metadata": {},
   "outputs": [],
   "source": [
    "#test prediction by random forest\n",
    "rfOutput=rf.predict_proba(test.iloc[:,0:29])"
   ]
  },
  {
   "cell_type": "code",
   "execution_count": 110,
   "metadata": {
    "collapsed": true
   },
   "outputs": [],
   "source": [
    "#test prediction by knn classifier\n",
    "knnOutput=modelKnn.predict_proba(test.iloc[:,0:29])"
   ]
  },
  {
   "cell_type": "code",
   "execution_count": 112,
   "metadata": {},
   "outputs": [],
   "source": [
    "#test prediction by nuran net\n",
    "annOutput=modelAnn.predict_proba(test.iloc[:,0:29])"
   ]
  },
  {
   "cell_type": "code",
   "execution_count": 113,
   "metadata": {
    "collapsed": true
   },
   "outputs": [],
   "source": [
    "#test prediction by gradiant boosting\n",
    "gradBoostOutput=modelGradBoost.predict_proba(test.iloc[:,0:29])"
   ]
  },
  {
   "cell_type": "code",
   "execution_count": 114,
   "metadata": {
    "collapsed": true
   },
   "outputs": [],
   "source": [
    "#test prediction by logistic regression\n",
    "logisticOutput=modelLogit.predict_proba(test.iloc[:,0:29])"
   ]
  },
  {
   "cell_type": "code",
   "execution_count": 115,
   "metadata": {
    "collapsed": true
   },
   "outputs": [],
   "source": [
    "#test prediction by extra tree model\n",
    "ExtraOutput=modelExtra.predict_proba(test.iloc[:,0:29])"
   ]
  },
  {
   "cell_type": "code",
   "execution_count": 116,
   "metadata": {
    "collapsed": true
   },
   "outputs": [],
   "source": [
    "#test prediction by stacked ensemble model\n",
    "stackedOutput=sclf.predict_proba(test.iloc[:,0:29])"
   ]
  },
  {
   "cell_type": "code",
   "execution_count": 117,
   "metadata": {
    "collapsed": true
   },
   "outputs": [],
   "source": [
    "#averaging the output values and storing it\n",
    "z=[]\n",
    "for i in range(0,test.active_sub.count()):\n",
    "    p=(rfOutput[i]+gradBoostOutput[i]+ExtraOutput[i])/3\n",
    "    z.append(p)"
   ]
  },
  {
   "cell_type": "code",
   "execution_count": 118,
   "metadata": {
    "collapsed": true
   },
   "outputs": [],
   "source": [
    "#storing the output value in a dataframe\n",
    "y=[]\n",
    "for i in range(0,test.active_sub.count()):\n",
    "    y.append(1-stackedOutput[i][0])"
   ]
  },
  {
   "cell_type": "code",
   "execution_count": 119,
   "metadata": {
    "collapsed": true
   },
   "outputs": [],
   "source": [
    "#fetching the data again to create new file\n",
    "store=pd.read_csv(\"C:/Users/kallol/Desktop/Kaggle/Hackathon/test.csv\")"
   ]
  },
  {
   "cell_type": "code",
   "execution_count": 120,
   "metadata": {
    "collapsed": true
   },
   "outputs": [],
   "source": [
    "#empty list\n",
    "result=[]"
   ]
  },
  {
   "cell_type": "code",
   "execution_count": 121,
   "metadata": {
    "collapsed": true
   },
   "outputs": [],
   "source": [
    "#converting the list into empty dataframe\n",
    "result=pd.DataFrame(result)"
   ]
  },
  {
   "cell_type": "code",
   "execution_count": 122,
   "metadata": {
    "collapsed": true
   },
   "outputs": [],
   "source": [
    "#creating column\n",
    "result['Customer_Id']=store.Customer_Id"
   ]
  },
  {
   "cell_type": "code",
   "execution_count": 123,
   "metadata": {
    "collapsed": true
   },
   "outputs": [],
   "source": [
    "result['Left']=y"
   ]
  },
  {
   "cell_type": "code",
   "execution_count": 124,
   "metadata": {
    "collapsed": true
   },
   "outputs": [],
   "source": [
    "#creating the csv file of result\n",
    "#delete the newly formed column of the excel sheet and send it\n",
    "result.to_csv('res10.csv')"
   ]
  }
 ],
 "metadata": {
  "kernelspec": {
   "display_name": "Python 2",
   "language": "python",
   "name": "python2"
  },
  "language_info": {
   "codemirror_mode": {
    "name": "ipython",
    "version": 2
   },
   "file_extension": ".py",
   "mimetype": "text/x-python",
   "name": "python",
   "nbconvert_exporter": "python",
   "pygments_lexer": "ipython2",
   "version": "2.7.13"
  }
 },
 "nbformat": 4,
 "nbformat_minor": 2
}
